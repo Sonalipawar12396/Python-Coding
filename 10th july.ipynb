{
 "cells": [
  {
   "cell_type": "code",
   "execution_count": 2,
   "id": "1d22c573-461f-4185-9ffc-8e4bd1cebf47",
   "metadata": {},
   "outputs": [
    {
     "name": "stdin",
     "output_type": "stream",
     "text": [
      "enter number 10\n"
     ]
    }
   ],
   "source": [
    "n=float( input(\"enter number\"))"
   ]
  },
  {
   "cell_type": "code",
   "execution_count": 8,
   "id": "bc752c9d-32f5-4e4d-a260-52d7e1a77143",
   "metadata": {},
   "outputs": [
    {
     "name": "stdin",
     "output_type": "stream",
     "text": [
      "enter number -9\n"
     ]
    },
    {
     "name": "stdout",
     "output_type": "stream",
     "text": [
      "the absolute value of  -9.0  is 9.0\n"
     ]
    }
   ],
   "source": [
    "n=float( input(\"enter number\"))\n",
    "if n>=0 : \n",
    "   print (\"the absolute value of \",n,\" is\" ,n)\n",
    "else:\n",
    "   print (\"the absolute value of \",n,\" is\" , -n)"
   ]
  },
  {
   "cell_type": "code",
   "execution_count": 14,
   "id": "ae44509c-725d-4f58-9c05-6a5f426d26b3",
   "metadata": {},
   "outputs": [
    {
     "name": "stdin",
     "output_type": "stream",
     "text": [
      "enter name sonali\n"
     ]
    }
   ],
   "source": [
    "\n",
    "\n",
    "\n",
    "\n"
   ]
  },
  {
   "cell_type": "code",
   "execution_count": 19,
   "id": "b5752eed-2895-4cd3-b4be-2ada57e00f5d",
   "metadata": {},
   "outputs": [
    {
     "name": "stdin",
     "output_type": "stream",
     "text": [
      "enter name mom\n"
     ]
    },
    {
     "name": "stdout",
     "output_type": "stream",
     "text": [
      "mom\n",
      "the entered mom is not valid\n"
     ]
    }
   ],
   "source": [
    "#if else multiple\n",
    "\n",
    "name =input(\"enter name\")\n",
    "print(name)\n",
    "\n",
    "if name ==\"sonali\":\n",
    "   print(\"the entered name is\", name)\n",
    "elif name==\"vishal\":\n",
    "   print(\"the entered name is\", name)\n",
    "elif name==\"manali\":\n",
    "   print(\"the entered name is\", name)\n",
    "elif name==\"gaju\":\n",
    "   print(\"the entered name is\", name)\n",
    "else :\n",
    "   print (\"the entered\", name, \"is not valid\")"
   ]
  },
  {
   "cell_type": "code",
   "execution_count": 26,
   "id": "2bbe0f16-f423-45e2-ac14-4ff88d5dd1f3",
   "metadata": {},
   "outputs": [
    {
     "name": "stdout",
     "output_type": "stream",
     "text": [
      "both type and subtype invalid\n"
     ]
    }
   ],
   "source": [
    "#Nested ifs else\n",
    "\n",
    "name2=\"animal\"\n",
    "Animal_name=\"dog\"\n",
    "\n",
    "if name2==\"animals\":\n",
    "    if Animal_name==\"cat\":\n",
    "        print (\"valid type and subtype\")\n",
    "    else:\n",
    "        print(\"valid name2\" , name2 , \"but invalid subtype\")\n",
    "else:\n",
    "   print (\"both type and subtype invalid\")"
   ]
  },
  {
   "cell_type": "code",
   "execution_count": 27,
   "id": "8fd0ae1f-2942-46ae-bfac-e596e1252213",
   "metadata": {},
   "outputs": [],
   "source": [
    "#while"
   ]
  },
  {
   "cell_type": "code",
   "execution_count": null,
   "id": "779a4d6b-e141-45a1-b43d-9d986b3cead3",
   "metadata": {},
   "outputs": [],
   "source": []
  },
  {
   "cell_type": "code",
   "execution_count": 29,
   "id": "aed5c19e-ba7c-4de6-bf96-847cbb24c675",
   "metadata": {},
   "outputs": [
    {
     "name": "stdout",
     "output_type": "stream",
     "text": [
      "0 first print\n",
      "1 second print\n",
      "1 first print\n",
      "2 second print\n",
      "2 first print\n",
      "3 second print\n",
      "3 first print\n",
      "4 second print\n",
      "4 first print\n",
      "5 second print\n"
     ]
    }
   ],
   "source": [
    "a=0\n",
    "\n",
    "while a<5:\n",
    "  print(a, \"first print\")\n",
    "  a= a+1\n",
    "  print(a, \"second print\")"
   ]
  },
  {
   "cell_type": "code",
   "execution_count": null,
   "id": "70b433ad-da6a-41c3-bc43-93452d5d9aa2",
   "metadata": {},
   "outputs": [],
   "source": [
    "a=0\n",
    "\n",
    "while a<5:\n",
    "  print(a, \"first print\")\n",
    "  a= a+1\n",
    "    print(a, \"second print\")"
   ]
  },
  {
   "cell_type": "code",
   "execution_count": null,
   "id": "07ec6e36-8ecd-4c61-bdd3-56a9408c17be",
   "metadata": {},
   "outputs": [],
   "source": [
    "a=1\n",
    "s=0\n",
    "\n",
    "print(\"enter the number for sum\")\n",
    "print(\"put 0 for exit\")\n",
    "\n",
    "while a!=0:\n",
    "    print(\"the sum is\", s)\n",
    "    a= input(\"enter number\")\n",
    "    s=s+a\n",
    "print(\"total sum is\", s)\n",
    " \n"
   ]
  },
  {
   "cell_type": "code",
   "execution_count": null,
   "id": "3f05be30-a9b7-479e-be0f-7cade05ae1d2",
   "metadata": {},
   "outputs": [],
   "source": []
  },
  {
   "cell_type": "code",
   "execution_count": null,
   "id": "ed433f34-ea4a-449f-adcc-eb73d3e557bf",
   "metadata": {},
   "outputs": [],
   "source": []
  }
 ],
 "metadata": {
  "kernelspec": {
   "display_name": "Python 3 (ipykernel)",
   "language": "python",
   "name": "python3"
  },
  "language_info": {
   "codemirror_mode": {
    "name": "ipython",
    "version": 3
   },
   "file_extension": ".py",
   "mimetype": "text/x-python",
   "name": "python",
   "nbconvert_exporter": "python",
   "pygments_lexer": "ipython3",
   "version": "3.13.5"
  }
 },
 "nbformat": 4,
 "nbformat_minor": 5
}
