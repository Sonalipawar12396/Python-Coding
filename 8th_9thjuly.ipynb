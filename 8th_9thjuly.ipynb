{
 "cells": [
  {
   "cell_type": "code",
   "execution_count": 1,
   "id": "60c18119-2207-48de-9815-9c6f97c019b3",
   "metadata": {},
   "outputs": [
    {
     "name": "stdin",
     "output_type": "stream",
     "text": [
      "enter a number 25\n"
     ]
    }
   ],
   "source": [
    "a= input(\"enter a number\")"
   ]
  },
  {
   "cell_type": "code",
   "execution_count": 2,
   "id": "81d726fa-3127-400c-b4a8-a5002fa6d1d1",
   "metadata": {},
   "outputs": [
    {
     "data": {
      "text/plain": [
       "'25'"
      ]
     },
     "execution_count": 2,
     "metadata": {},
     "output_type": "execute_result"
    }
   ],
   "source": [
    "a"
   ]
  },
  {
   "cell_type": "code",
   "execution_count": 3,
   "id": "6b13d10b-6c7a-4041-a9b8-2d418ee8bbc5",
   "metadata": {},
   "outputs": [
    {
     "name": "stdin",
     "output_type": "stream",
     "text": [
      "enter a number 25\n"
     ]
    }
   ],
   "source": [
    "a= int(input(\"enter a number\"))"
   ]
  },
  {
   "cell_type": "code",
   "execution_count": 4,
   "id": "84e4e0fd-b17c-4fff-a5fc-5def04ca3d66",
   "metadata": {},
   "outputs": [
    {
     "data": {
      "text/plain": [
       "25"
      ]
     },
     "execution_count": 4,
     "metadata": {},
     "output_type": "execute_result"
    }
   ],
   "source": [
    "a"
   ]
  },
  {
   "cell_type": "code",
   "execution_count": 5,
   "id": "79c17fa7-f0d4-431b-a5a1-139b29c04ae7",
   "metadata": {},
   "outputs": [],
   "source": [
    "variable3 = 25\n",
    "variable4= 30"
   ]
  },
  {
   "cell_type": "code",
   "execution_count": 6,
   "id": "aa8a9212-cde5-488f-966a-d541257bdca4",
   "metadata": {},
   "outputs": [],
   "source": [
    "sum =variable3+ variable4"
   ]
  },
  {
   "cell_type": "code",
   "execution_count": 7,
   "id": "794ae193-8999-4432-beec-193b50122504",
   "metadata": {},
   "outputs": [
    {
     "name": "stdout",
     "output_type": "stream",
     "text": [
      "55\n"
     ]
    }
   ],
   "source": [
    "print(sum)"
   ]
  },
  {
   "cell_type": "code",
   "execution_count": 8,
   "id": "10f2e1da-74be-4f50-8caa-a9763808710f",
   "metadata": {},
   "outputs": [
    {
     "data": {
      "text/plain": [
       "int"
      ]
     },
     "execution_count": 8,
     "metadata": {},
     "output_type": "execute_result"
    }
   ],
   "source": [
    "type( variable3)"
   ]
  },
  {
   "cell_type": "code",
   "execution_count": 9,
   "id": "4932fda5-f279-4e61-bf47-3066c53e7ea3",
   "metadata": {},
   "outputs": [],
   "source": [
    "variable1 =\"sonali\"\n",
    "variable2= 1.000005"
   ]
  },
  {
   "cell_type": "code",
   "execution_count": 10,
   "id": "4f9746b9-225a-4596-9526-cfdaec431c7f",
   "metadata": {},
   "outputs": [
    {
     "data": {
      "text/plain": [
       "str"
      ]
     },
     "execution_count": 10,
     "metadata": {},
     "output_type": "execute_result"
    }
   ],
   "source": [
    "type(variable1)"
   ]
  },
  {
   "cell_type": "code",
   "execution_count": 11,
   "id": "fb535472-1d13-4964-9643-2dcb2859ac77",
   "metadata": {},
   "outputs": [
    {
     "data": {
      "text/plain": [
       "float"
      ]
     },
     "execution_count": 11,
     "metadata": {},
     "output_type": "execute_result"
    }
   ],
   "source": [
    "type(variable2)"
   ]
  },
  {
   "cell_type": "code",
   "execution_count": 12,
   "id": "04b83b2e-c795-4f60-a9db-48019ac10907",
   "metadata": {},
   "outputs": [],
   "source": [
    "#module is like mobile application import it only when it is necessary\n"
   ]
  },
  {
   "cell_type": "code",
   "execution_count": 13,
   "id": "68193bdf-54eb-47d6-a9be-6cca2f0ac2e1",
   "metadata": {},
   "outputs": [],
   "source": [
    "import math"
   ]
  },
  {
   "cell_type": "code",
   "execution_count": 14,
   "id": "f11fb01f-f473-485e-83fa-787729ca640a",
   "metadata": {},
   "outputs": [
    {
     "data": {
      "text/plain": [
       "1.4142135623730951"
      ]
     },
     "execution_count": 14,
     "metadata": {},
     "output_type": "execute_result"
    }
   ],
   "source": [
    "math.sqrt(2)"
   ]
  },
  {
   "cell_type": "code",
   "execution_count": 15,
   "id": "b17abb1c-0671-43fc-ab4d-5b6c0a000bd6",
   "metadata": {},
   "outputs": [
    {
     "data": {
      "text/plain": [
       "'sonali'"
      ]
     },
     "execution_count": 15,
     "metadata": {},
     "output_type": "execute_result"
    }
   ],
   "source": [
    "variable1"
   ]
  },
  {
   "cell_type": "code",
   "execution_count": 16,
   "id": "0b9676bc-ce81-4313-9543-abdecacba2cf",
   "metadata": {},
   "outputs": [],
   "source": [
    "#code for checking the memory location"
   ]
  },
  {
   "cell_type": "code",
   "execution_count": 17,
   "id": "9a0f9bd7-1013-4f91-8553-93c0cf6baa59",
   "metadata": {},
   "outputs": [
    {
     "data": {
      "text/plain": [
       "2036056611392"
      ]
     },
     "execution_count": 17,
     "metadata": {},
     "output_type": "execute_result"
    }
   ],
   "source": [
    "id(variable1)"
   ]
  },
  {
   "cell_type": "code",
   "execution_count": 20,
   "id": "64afccaa-c983-401a-a281-b2e352d00202",
   "metadata": {},
   "outputs": [
    {
     "name": "stdin",
     "output_type": "stream",
     "text": [
      "enter number 34324\n",
      "enter number 34656\n",
      "enter number 6765\n"
     ]
    },
    {
     "name": "stdout",
     "output_type": "stream",
     "text": [
      "max number is\n",
      "34656\n"
     ]
    }
   ],
   "source": [
    "x= int(input(\"enter number\"))\n",
    "y= int(input(\"enter number\"))\n",
    "z= int (input(\"enter number\"))\n",
    "print(\"max number is\")\n",
    "print(max(x,y,z))"
   ]
  },
  {
   "cell_type": "code",
   "execution_count": 22,
   "id": "884d5db6-1505-4597-8210-0f49d905175b",
   "metadata": {},
   "outputs": [
    {
     "name": "stdout",
     "output_type": "stream",
     "text": [
      "min number is\n",
      "6765\n"
     ]
    }
   ],
   "source": [
    "print (\"min number is\") \n",
    "print (min(x,y,z))"
   ]
  },
  {
   "cell_type": "markdown",
   "id": "3ff4c060-25c1-4566-94e7-8c06bdfa2152",
   "metadata": {},
   "source": [
    "#arithmetic operators"
   ]
  },
  {
   "cell_type": "code",
   "execution_count": 23,
   "id": "3eaef768-8fa0-44ba-b717-0166102e39c4",
   "metadata": {},
   "outputs": [],
   "source": [
    "x=5"
   ]
  },
  {
   "cell_type": "code",
   "execution_count": 24,
   "id": "9b5cd148-3e6d-4c45-95e3-f72db15c8d34",
   "metadata": {},
   "outputs": [],
   "source": [
    "x+=5"
   ]
  },
  {
   "cell_type": "code",
   "execution_count": 25,
   "id": "9189a7b9-ad25-4dcf-9a31-89fcf25b97de",
   "metadata": {},
   "outputs": [
    {
     "name": "stdout",
     "output_type": "stream",
     "text": [
      "10\n"
     ]
    }
   ],
   "source": [
    "print(x)"
   ]
  },
  {
   "cell_type": "code",
   "execution_count": 26,
   "id": "59747d55-eb30-4ce5-bb0d-7b2efc20ea33",
   "metadata": {},
   "outputs": [],
   "source": [
    "#x+=5, x=x+5 Assignment operators"
   ]
  },
  {
   "cell_type": "code",
   "execution_count": 27,
   "id": "6fb74baa-2ef9-4588-abbe-3f734f5da0f0",
   "metadata": {},
   "outputs": [],
   "source": [
    "y=5"
   ]
  },
  {
   "cell_type": "code",
   "execution_count": 28,
   "id": "e4765308-8f0c-4b3e-a2e3-509a6796eec7",
   "metadata": {},
   "outputs": [
    {
     "data": {
      "text/plain": [
       "True"
      ]
     },
     "execution_count": 28,
     "metadata": {},
     "output_type": "execute_result"
    }
   ],
   "source": [
    "#logical operators\n",
    "\n",
    "x!=y"
   ]
  },
  {
   "cell_type": "code",
   "execution_count": 29,
   "id": "85831bab-f3c8-4044-baf0-9c900784bd50",
   "metadata": {},
   "outputs": [
    {
     "data": {
      "text/plain": [
       "False"
      ]
     },
     "execution_count": 29,
     "metadata": {},
     "output_type": "execute_result"
    }
   ],
   "source": [
    "x==y"
   ]
  },
  {
   "cell_type": "code",
   "execution_count": 30,
   "id": "a0c594f8-3122-49ec-a90f-8884416c975f",
   "metadata": {},
   "outputs": [
    {
     "data": {
      "text/plain": [
       "True"
      ]
     },
     "execution_count": 30,
     "metadata": {},
     "output_type": "execute_result"
    }
   ],
   "source": [
    "x>y"
   ]
  },
  {
   "cell_type": "code",
   "execution_count": 31,
   "id": "affff3e0-f98b-4f93-ae89-334f8caf496e",
   "metadata": {},
   "outputs": [
    {
     "data": {
      "text/plain": [
       "False"
      ]
     },
     "execution_count": 31,
     "metadata": {},
     "output_type": "execute_result"
    }
   ],
   "source": [
    "x<y"
   ]
  },
  {
   "cell_type": "code",
   "execution_count": 34,
   "id": "980d0c0f-2edd-43b1-a208-37b99422289f",
   "metadata": {},
   "outputs": [
    {
     "data": {
      "text/plain": [
       "True"
      ]
     },
     "execution_count": 34,
     "metadata": {},
     "output_type": "execute_result"
    }
   ],
   "source": [
    "#identity operators\n",
    "\n",
    "x is 10"
   ]
  },
  {
   "cell_type": "code",
   "execution_count": 35,
   "id": "c5a8c860-5a63-4fdf-a4bf-954692faa5c3",
   "metadata": {},
   "outputs": [
    {
     "name": "stderr",
     "output_type": "stream",
     "text": [
      "<>:1: SyntaxWarning: \"is not\" with 'int' literal. Did you mean \"!=\"?\n",
      "C:\\Users\\Sonali\\AppData\\Local\\Temp\\ipykernel_22172\\908714030.py:1: SyntaxWarning: \"is not\" with 'int' literal. Did you mean \"!=\"?\n",
      "  x is not 5\n"
     ]
    },
    {
     "data": {
      "text/plain": [
       "True"
      ]
     },
     "execution_count": 35,
     "metadata": {},
     "output_type": "execute_result"
    }
   ],
   "source": [
    "x is not 5"
   ]
  },
  {
   "cell_type": "code",
   "execution_count": 36,
   "id": "f6536e60-eb9c-42c0-8be8-ec7602426a81",
   "metadata": {},
   "outputs": [],
   "source": [
    "vector1= [1,2,3,4,5]"
   ]
  },
  {
   "cell_type": "code",
   "execution_count": 37,
   "id": "9e54a774-fc4d-4535-a1b5-20262e2d706a",
   "metadata": {},
   "outputs": [
    {
     "data": {
      "text/plain": [
       "True"
      ]
     },
     "execution_count": 37,
     "metadata": {},
     "output_type": "execute_result"
    }
   ],
   "source": [
    "#membership operators\n",
    "\n",
    "2 in vector1"
   ]
  },
  {
   "cell_type": "code",
   "execution_count": 38,
   "id": "477b7b9f-ce7c-4f7d-b286-9586d5afa6b9",
   "metadata": {},
   "outputs": [
    {
     "data": {
      "text/plain": [
       "False"
      ]
     },
     "execution_count": 38,
     "metadata": {},
     "output_type": "execute_result"
    }
   ],
   "source": [
    "5 not in vector1"
   ]
  },
  {
   "cell_type": "code",
   "execution_count": 39,
   "id": "cd494a07-55df-4f10-8fcb-fca8ab78e531",
   "metadata": {},
   "outputs": [
    {
     "data": {
      "text/plain": [
       "True"
      ]
     },
     "execution_count": 39,
     "metadata": {},
     "output_type": "execute_result"
    }
   ],
   "source": [
    "6 not in vector1"
   ]
  },
  {
   "cell_type": "code",
   "execution_count": 41,
   "id": "f04434be-fb94-4342-acbb-586654ce765a",
   "metadata": {},
   "outputs": [
    {
     "ename": "NameError",
     "evalue": "name 'datetime' is not defined",
     "output_type": "error",
     "traceback": [
      "\u001b[1;31m---------------------------------------------------------------------------\u001b[0m",
      "\u001b[1;31mNameError\u001b[0m                                 Traceback (most recent call last)",
      "Cell \u001b[1;32mIn[41], line 3\u001b[0m\n\u001b[0;32m      1\u001b[0m \u001b[38;5;66;03m#todays date\u001b[39;00m\n\u001b[1;32m----> 3\u001b[0m today \u001b[38;5;241m=\u001b[39m datetime\u001b[38;5;241m.\u001b[39mnow()\n\u001b[0;32m      4\u001b[0m \u001b[38;5;28mprint\u001b[39m(\u001b[38;5;124mf\u001b[39m\u001b[38;5;124m\"\u001b[39m\u001b[38;5;124mDate: \u001b[39m\u001b[38;5;132;01m{\u001b[39;00mtoday\u001b[38;5;241m.\u001b[39mstrftime(\u001b[38;5;124m'\u001b[39m\u001b[38;5;124m%\u001b[39m\u001b[38;5;124mY-\u001b[39m\u001b[38;5;124m%\u001b[39m\u001b[38;5;124mm-\u001b[39m\u001b[38;5;132;01m%d\u001b[39;00m\u001b[38;5;124m'\u001b[39m)\u001b[38;5;132;01m}\u001b[39;00m\u001b[38;5;124m\"\u001b[39m)\n\u001b[0;32m      5\u001b[0m \u001b[38;5;28mprint\u001b[39m(\u001b[38;5;124mf\u001b[39m\u001b[38;5;124m\"\u001b[39m\u001b[38;5;124mDay: \u001b[39m\u001b[38;5;132;01m{\u001b[39;00mtoday\u001b[38;5;241m.\u001b[39mstrftime(\u001b[38;5;124m'\u001b[39m\u001b[38;5;124m%\u001b[39m\u001b[38;5;124mA\u001b[39m\u001b[38;5;124m'\u001b[39m)\u001b[38;5;132;01m}\u001b[39;00m\u001b[38;5;124m\"\u001b[39m)\n",
      "\u001b[1;31mNameError\u001b[0m: name 'datetime' is not defined"
     ]
    }
   ],
   "source": [
    "#todays date\n",
    "\n",
    "today = datetime.now()\n",
    "print(f\"Date: {today.strftime('%Y-%m-%d')}\")\n",
    "print(f\"Day: {today.strftime('%A')}\")\n"
   ]
  },
  {
   "cell_type": "code",
   "execution_count": 42,
   "id": "fb91a5cb-58e1-4293-adce-a81d2b00406b",
   "metadata": {},
   "outputs": [],
   "source": [
    "import datetime"
   ]
  },
  {
   "cell_type": "code",
   "execution_count": 43,
   "id": "31c7f586-23c7-4cb7-b8e2-b33a5f399cc2",
   "metadata": {},
   "outputs": [
    {
     "ename": "AttributeError",
     "evalue": "module 'datetime' has no attribute 'now'",
     "output_type": "error",
     "traceback": [
      "\u001b[1;31m---------------------------------------------------------------------------\u001b[0m",
      "\u001b[1;31mAttributeError\u001b[0m                            Traceback (most recent call last)",
      "Cell \u001b[1;32mIn[43], line 1\u001b[0m\n\u001b[1;32m----> 1\u001b[0m today \u001b[38;5;241m=\u001b[39m datetime\u001b[38;5;241m.\u001b[39mnow()\n\u001b[0;32m      2\u001b[0m \u001b[38;5;28mprint\u001b[39m(\u001b[38;5;124mf\u001b[39m\u001b[38;5;124m\"\u001b[39m\u001b[38;5;124mDate: \u001b[39m\u001b[38;5;132;01m{\u001b[39;00mtoday\u001b[38;5;241m.\u001b[39mstrftime(\u001b[38;5;124m'\u001b[39m\u001b[38;5;124m%\u001b[39m\u001b[38;5;124mY-\u001b[39m\u001b[38;5;124m%\u001b[39m\u001b[38;5;124mm-\u001b[39m\u001b[38;5;132;01m%d\u001b[39;00m\u001b[38;5;124m'\u001b[39m)\u001b[38;5;132;01m}\u001b[39;00m\u001b[38;5;124m\"\u001b[39m)\n\u001b[0;32m      3\u001b[0m \u001b[38;5;28mprint\u001b[39m(\u001b[38;5;124mf\u001b[39m\u001b[38;5;124m\"\u001b[39m\u001b[38;5;124mDay: \u001b[39m\u001b[38;5;132;01m{\u001b[39;00mtoday\u001b[38;5;241m.\u001b[39mstrftime(\u001b[38;5;124m'\u001b[39m\u001b[38;5;124m%\u001b[39m\u001b[38;5;124mA\u001b[39m\u001b[38;5;124m'\u001b[39m)\u001b[38;5;132;01m}\u001b[39;00m\u001b[38;5;124m\"\u001b[39m)\n",
      "\u001b[1;31mAttributeError\u001b[0m: module 'datetime' has no attribute 'now'"
     ]
    }
   ],
   "source": [
    "today = datetime.now()\n",
    "print(f\"Date: {today.strftime('%Y-%m-%d')}\")\n",
    "print(f\"Day: {today.strftime('%A')}\")"
   ]
  },
  {
   "cell_type": "code",
   "execution_count": 44,
   "id": "699717bf-ae5d-43e2-8ac5-c94a90780235",
   "metadata": {},
   "outputs": [],
   "source": [
    "import datetime\n",
    "today = datetime.datetime.now()"
   ]
  },
  {
   "cell_type": "code",
   "execution_count": 45,
   "id": "137bfbe3-e16f-475d-9090-73cfb05fe338",
   "metadata": {},
   "outputs": [
    {
     "name": "stdout",
     "output_type": "stream",
     "text": [
      "Help on module datetime:\n",
      "\n",
      "NAME\n",
      "    datetime - Fast implementation of the datetime type.\n",
      "\n",
      "MODULE REFERENCE\n",
      "    https://docs.python.org/3.13/library/datetime.html\n",
      "\n",
      "    The following documentation is automatically generated from the Python\n",
      "    source files.  It may be incomplete, incorrect or include features that\n",
      "    are considered implementation detail and may vary between Python\n",
      "    implementations.  When in doubt, consult the module reference at the\n",
      "    location listed above.\n",
      "\n",
      "CLASSES\n",
      "    builtins.object\n",
      "        date\n",
      "            datetime\n",
      "        time\n",
      "        timedelta\n",
      "        tzinfo\n",
      "            timezone\n",
      "\n",
      "    class date(builtins.object)\n",
      "     |  date(year, month, day) --> date object\n",
      "     |\n",
      "     |  Methods defined here:\n",
      "     |\n",
      "     |  __add__(self, value, /)\n",
      "     |      Return self+value.\n",
      "     |\n",
      "     |  __eq__(self, value, /)\n",
      "     |      Return self==value.\n",
      "     |\n",
      "     |  __format__(...)\n",
      "     |      Formats self with strftime.\n",
      "     |\n",
      "     |  __ge__(self, value, /)\n",
      "     |      Return self>=value.\n",
      "     |\n",
      "     |  __gt__(self, value, /)\n",
      "     |      Return self>value.\n",
      "     |\n",
      "     |  __hash__(self, /)\n",
      "     |      Return hash(self).\n",
      "     |\n",
      "     |  __le__(self, value, /)\n",
      "     |      Return self<=value.\n",
      "     |\n",
      "     |  __lt__(self, value, /)\n",
      "     |      Return self<value.\n",
      "     |\n",
      "     |  __ne__(self, value, /)\n",
      "     |      Return self!=value.\n",
      "     |\n",
      "     |  __radd__(self, value, /)\n",
      "     |      Return value+self.\n",
      "     |\n",
      "     |  __reduce__(self, /)\n",
      "     |      __reduce__() -> (cls, state)\n",
      "     |\n",
      "     |  __replace__(self, /, **changes)\n",
      "     |      The same as replace().\n",
      "     |\n",
      "     |  __repr__(self, /)\n",
      "     |      Return repr(self).\n",
      "     |\n",
      "     |  __rsub__(self, value, /)\n",
      "     |      Return value-self.\n",
      "     |\n",
      "     |  __str__(self, /)\n",
      "     |      Return str(self).\n",
      "     |\n",
      "     |  __sub__(self, value, /)\n",
      "     |      Return self-value.\n",
      "     |\n",
      "     |  ctime(self, /)\n",
      "     |      Return ctime() style string.\n",
      "     |\n",
      "     |  isocalendar(self, /)\n",
      "     |      Return a named tuple containing ISO year, week number, and weekday.\n",
      "     |\n",
      "     |  isoformat(self, /)\n",
      "     |      Return string in ISO 8601 format, YYYY-MM-DD.\n",
      "     |\n",
      "     |  isoweekday(self, /)\n",
      "     |      Return the day of the week represented by the date.\n",
      "     |      Monday == 1 ... Sunday == 7\n",
      "     |\n",
      "     |  replace(self, /, year=unchanged, month=unchanged, day=unchanged)\n",
      "     |      Return date with new specified fields.\n",
      "     |\n",
      "     |  strftime(...)\n",
      "     |      format -> strftime() style string.\n",
      "     |\n",
      "     |  timetuple(self, /)\n",
      "     |      Return time tuple, compatible with time.localtime().\n",
      "     |\n",
      "     |  toordinal(self, /)\n",
      "     |      Return proleptic Gregorian ordinal.  January 1 of year 1 is day 1.\n",
      "     |\n",
      "     |  weekday(self, /)\n",
      "     |      Return the day of the week represented by the date.\n",
      "     |      Monday == 0 ... Sunday == 6\n",
      "     |\n",
      "     |  ----------------------------------------------------------------------\n",
      "     |  Class methods defined here:\n",
      "     |\n",
      "     |  fromisocalendar(...)\n",
      "     |      int, int, int -> Construct a date from the ISO year, week number and weekday.\n",
      "     |\n",
      "     |      This is the inverse of the date.isocalendar() function\n",
      "     |\n",
      "     |  fromisoformat(object, /)\n",
      "     |      str -> Construct a date from a string in ISO 8601 format.\n",
      "     |\n",
      "     |  fromordinal(...)\n",
      "     |      int -> date corresponding to a proleptic Gregorian ordinal.\n",
      "     |\n",
      "     |  fromtimestamp(timestamp, /)\n",
      "     |      Create a date from a POSIX timestamp.\n",
      "     |\n",
      "     |      The timestamp is a number, e.g. created via time.time(), that is interpreted\n",
      "     |      as local time.\n",
      "     |\n",
      "     |  today()\n",
      "     |      Current date or datetime:  same as self.__class__.fromtimestamp(time.time()).\n",
      "     |\n",
      "     |  ----------------------------------------------------------------------\n",
      "     |  Static methods defined here:\n",
      "     |\n",
      "     |  __new__(*args, **kwargs)\n",
      "     |      Create and return a new object.  See help(type) for accurate signature.\n",
      "     |\n",
      "     |  ----------------------------------------------------------------------\n",
      "     |  Data descriptors defined here:\n",
      "     |\n",
      "     |  day\n",
      "     |\n",
      "     |  month\n",
      "     |\n",
      "     |  year\n",
      "     |\n",
      "     |  ----------------------------------------------------------------------\n",
      "     |  Data and other attributes defined here:\n",
      "     |\n",
      "     |  max = datetime.date(9999, 12, 31)\n",
      "     |\n",
      "     |  min = datetime.date(1, 1, 1)\n",
      "     |\n",
      "     |  resolution = datetime.timedelta(days=1)\n",
      "\n",
      "    class datetime(date)\n",
      "     |  datetime(year, month, day[, hour[, minute[, second[, microsecond[,tzinfo]]]]])\n",
      "     |\n",
      "     |  The year, month and day arguments are required. tzinfo may be None, or an\n",
      "     |  instance of a tzinfo subclass. The remaining arguments may be ints.\n",
      "     |\n",
      "     |  Method resolution order:\n",
      "     |      datetime\n",
      "     |      date\n",
      "     |      builtins.object\n",
      "     |\n",
      "     |  Methods defined here:\n",
      "     |\n",
      "     |  __add__(self, value, /)\n",
      "     |      Return self+value.\n",
      "     |\n",
      "     |  __eq__(self, value, /)\n",
      "     |      Return self==value.\n",
      "     |\n",
      "     |  __ge__(self, value, /)\n",
      "     |      Return self>=value.\n",
      "     |\n",
      "     |  __gt__(self, value, /)\n",
      "     |      Return self>value.\n",
      "     |\n",
      "     |  __hash__(self, /)\n",
      "     |      Return hash(self).\n",
      "     |\n",
      "     |  __le__(self, value, /)\n",
      "     |      Return self<=value.\n",
      "     |\n",
      "     |  __lt__(self, value, /)\n",
      "     |      Return self<value.\n",
      "     |\n",
      "     |  __ne__(self, value, /)\n",
      "     |      Return self!=value.\n",
      "     |\n",
      "     |  __radd__(self, value, /)\n",
      "     |      Return value+self.\n",
      "     |\n",
      "     |  __reduce__(self, /)\n",
      "     |      __reduce__() -> (cls, state)\n",
      "     |\n",
      "     |  __reduce_ex__(...)\n",
      "     |      __reduce_ex__(proto) -> (cls, state)\n",
      "     |\n",
      "     |  __replace__(self, /, **changes)\n",
      "     |      The same as replace().\n",
      "     |\n",
      "     |  __repr__(self, /)\n",
      "     |      Return repr(self).\n",
      "     |\n",
      "     |  __rsub__(self, value, /)\n",
      "     |      Return value-self.\n",
      "     |\n",
      "     |  __str__(self, /)\n",
      "     |      Return str(self).\n",
      "     |\n",
      "     |  __sub__(self, value, /)\n",
      "     |      Return self-value.\n",
      "     |\n",
      "     |  astimezone(...)\n",
      "     |      tz -> convert to local time in new timezone tz\n",
      "     |\n",
      "     |  ctime(self, /)\n",
      "     |      Return ctime() style string.\n",
      "     |\n",
      "     |  date(self, /)\n",
      "     |      Return date object with same year, month and day.\n",
      "     |\n",
      "     |  dst(self, /)\n",
      "     |      Return self.tzinfo.dst(self).\n",
      "     |\n",
      "     |  isoformat(...)\n",
      "     |      [sep] -> string in ISO 8601 format, YYYY-MM-DDT[HH[:MM[:SS[.mmm[uuu]]]]][+HH:MM].\n",
      "     |      sep is used to separate the year from the time, and defaults to 'T'.\n",
      "     |      The optional argument timespec specifies the number of additional terms\n",
      "     |      of the time to include. Valid options are 'auto', 'hours', 'minutes',\n",
      "     |      'seconds', 'milliseconds' and 'microseconds'.\n",
      "     |\n",
      "     |  replace(self, /, year=unchanged, month=unchanged, day=unchanged,\n",
      "     |          hour=unchanged, minute=unchanged, second=unchanged,\n",
      "     |          microsecond=unchanged, tzinfo=unchanged, *, fold=unchanged)\n",
      "     |      Return datetime with new specified fields.\n",
      "     |\n",
      "     |  time(self, /)\n",
      "     |      Return time object with same time but with tzinfo=None.\n",
      "     |\n",
      "     |  timestamp(self, /)\n",
      "     |      Return POSIX timestamp as float.\n",
      "     |\n",
      "     |  timetuple(self, /)\n",
      "     |      Return time tuple, compatible with time.localtime().\n",
      "     |\n",
      "     |  timetz(self, /)\n",
      "     |      Return time object with same time and tzinfo.\n",
      "     |\n",
      "     |  tzname(self, /)\n",
      "     |      Return self.tzinfo.tzname(self).\n",
      "     |\n",
      "     |  utcoffset(self, /)\n",
      "     |      Return self.tzinfo.utcoffset(self).\n",
      "     |\n",
      "     |  utctimetuple(self, /)\n",
      "     |      Return UTC time tuple, compatible with time.localtime().\n",
      "     |\n",
      "     |  ----------------------------------------------------------------------\n",
      "     |  Class methods defined here:\n",
      "     |\n",
      "     |  combine(...)\n",
      "     |      date, time -> datetime with same date and time fields\n",
      "     |\n",
      "     |  fromisoformat(object, /)\n",
      "     |      string -> datetime from a string in most ISO 8601 formats\n",
      "     |\n",
      "     |  fromtimestamp(...)\n",
      "     |      timestamp[, tz] -> tz's local time from POSIX timestamp.\n",
      "     |\n",
      "     |  now(tz=None)\n",
      "     |      Returns new datetime object representing current time local to tz.\n",
      "     |\n",
      "     |        tz\n",
      "     |          Timezone object.\n",
      "     |\n",
      "     |      If no tz is specified, uses local timezone.\n",
      "     |\n",
      "     |  strptime(...)\n",
      "     |      string, format -> new datetime parsed from a string (like time.strptime()).\n",
      "     |\n",
      "     |  utcfromtimestamp(...)\n",
      "     |      Construct a naive UTC datetime from a POSIX timestamp.\n",
      "     |\n",
      "     |  utcnow()\n",
      "     |      Return a new datetime representing UTC day and time.\n",
      "     |\n",
      "     |  ----------------------------------------------------------------------\n",
      "     |  Static methods defined here:\n",
      "     |\n",
      "     |  __new__(*args, **kwargs)\n",
      "     |      Create and return a new object.  See help(type) for accurate signature.\n",
      "     |\n",
      "     |  ----------------------------------------------------------------------\n",
      "     |  Data descriptors defined here:\n",
      "     |\n",
      "     |  fold\n",
      "     |\n",
      "     |  hour\n",
      "     |\n",
      "     |  microsecond\n",
      "     |\n",
      "     |  minute\n",
      "     |\n",
      "     |  second\n",
      "     |\n",
      "     |  tzinfo\n",
      "     |\n",
      "     |  ----------------------------------------------------------------------\n",
      "     |  Data and other attributes defined here:\n",
      "     |\n",
      "     |  max = datetime.datetime(9999, 12, 31, 23, 59, 59, 999999)\n",
      "     |\n",
      "     |  min = datetime.datetime(1, 1, 1, 0, 0)\n",
      "     |\n",
      "     |  resolution = datetime.timedelta(microseconds=1)\n",
      "     |\n",
      "     |  ----------------------------------------------------------------------\n",
      "     |  Methods inherited from date:\n",
      "     |\n",
      "     |  __format__(...)\n",
      "     |      Formats self with strftime.\n",
      "     |\n",
      "     |  isocalendar(self, /)\n",
      "     |      Return a named tuple containing ISO year, week number, and weekday.\n",
      "     |\n",
      "     |  isoweekday(self, /)\n",
      "     |      Return the day of the week represented by the date.\n",
      "     |      Monday == 1 ... Sunday == 7\n",
      "     |\n",
      "     |  strftime(...)\n",
      "     |      format -> strftime() style string.\n",
      "     |\n",
      "     |  toordinal(self, /)\n",
      "     |      Return proleptic Gregorian ordinal.  January 1 of year 1 is day 1.\n",
      "     |\n",
      "     |  weekday(self, /)\n",
      "     |      Return the day of the week represented by the date.\n",
      "     |      Monday == 0 ... Sunday == 6\n",
      "     |\n",
      "     |  ----------------------------------------------------------------------\n",
      "     |  Class methods inherited from date:\n",
      "     |\n",
      "     |  fromisocalendar(...)\n",
      "     |      int, int, int -> Construct a date from the ISO year, week number and weekday.\n",
      "     |\n",
      "     |      This is the inverse of the date.isocalendar() function\n",
      "     |\n",
      "     |  fromordinal(...)\n",
      "     |      int -> date corresponding to a proleptic Gregorian ordinal.\n",
      "     |\n",
      "     |  today()\n",
      "     |      Current date or datetime:  same as self.__class__.fromtimestamp(time.time()).\n",
      "     |\n",
      "     |  ----------------------------------------------------------------------\n",
      "     |  Data descriptors inherited from date:\n",
      "     |\n",
      "     |  day\n",
      "     |\n",
      "     |  month\n",
      "     |\n",
      "     |  year\n",
      "\n",
      "    class time(builtins.object)\n",
      "     |  time([hour[, minute[, second[, microsecond[, tzinfo]]]]]) --> a time object\n",
      "     |\n",
      "     |  All arguments are optional. tzinfo may be None, or an instance of\n",
      "     |  a tzinfo subclass. The remaining arguments may be ints.\n",
      "     |\n",
      "     |  Methods defined here:\n",
      "     |\n",
      "     |  __eq__(self, value, /)\n",
      "     |      Return self==value.\n",
      "     |\n",
      "     |  __format__(...)\n",
      "     |      Formats self with strftime.\n",
      "     |\n",
      "     |  __ge__(self, value, /)\n",
      "     |      Return self>=value.\n",
      "     |\n",
      "     |  __gt__(self, value, /)\n",
      "     |      Return self>value.\n",
      "     |\n",
      "     |  __hash__(self, /)\n",
      "     |      Return hash(self).\n",
      "     |\n",
      "     |  __le__(self, value, /)\n",
      "     |      Return self<=value.\n",
      "     |\n",
      "     |  __lt__(self, value, /)\n",
      "     |      Return self<value.\n",
      "     |\n",
      "     |  __ne__(self, value, /)\n",
      "     |      Return self!=value.\n",
      "     |\n",
      "     |  __reduce__(self, /)\n",
      "     |      __reduce__() -> (cls, state)\n",
      "     |\n",
      "     |  __reduce_ex__(...)\n",
      "     |      __reduce_ex__(proto) -> (cls, state)\n",
      "     |\n",
      "     |  __replace__(self, /, **changes)\n",
      "     |      The same as replace().\n",
      "     |\n",
      "     |  __repr__(self, /)\n",
      "     |      Return repr(self).\n",
      "     |\n",
      "     |  __str__(self, /)\n",
      "     |      Return str(self).\n",
      "     |\n",
      "     |  dst(self, /)\n",
      "     |      Return self.tzinfo.dst(self).\n",
      "     |\n",
      "     |  isoformat(...)\n",
      "     |      Return string in ISO 8601 format, [HH[:MM[:SS[.mmm[uuu]]]]][+HH:MM].\n",
      "     |\n",
      "     |      The optional argument timespec specifies the number of additional terms\n",
      "     |      of the time to include. Valid options are 'auto', 'hours', 'minutes',\n",
      "     |      'seconds', 'milliseconds' and 'microseconds'.\n",
      "     |\n",
      "     |  replace(self, /, hour=unchanged, minute=unchanged, second=unchanged,\n",
      "     |          microsecond=unchanged, tzinfo=unchanged, *, fold=unchanged)\n",
      "     |      Return time with new specified fields.\n",
      "     |\n",
      "     |  strftime(...)\n",
      "     |      format -> strftime() style string.\n",
      "     |\n",
      "     |  tzname(self, /)\n",
      "     |      Return self.tzinfo.tzname(self).\n",
      "     |\n",
      "     |  utcoffset(self, /)\n",
      "     |      Return self.tzinfo.utcoffset(self).\n",
      "     |\n",
      "     |  ----------------------------------------------------------------------\n",
      "     |  Class methods defined here:\n",
      "     |\n",
      "     |  fromisoformat(object, /)\n",
      "     |      string -> time from a string in ISO 8601 format\n",
      "     |\n",
      "     |  ----------------------------------------------------------------------\n",
      "     |  Static methods defined here:\n",
      "     |\n",
      "     |  __new__(*args, **kwargs)\n",
      "     |      Create and return a new object.  See help(type) for accurate signature.\n",
      "     |\n",
      "     |  ----------------------------------------------------------------------\n",
      "     |  Data descriptors defined here:\n",
      "     |\n",
      "     |  fold\n",
      "     |\n",
      "     |  hour\n",
      "     |\n",
      "     |  microsecond\n",
      "     |\n",
      "     |  minute\n",
      "     |\n",
      "     |  second\n",
      "     |\n",
      "     |  tzinfo\n",
      "     |\n",
      "     |  ----------------------------------------------------------------------\n",
      "     |  Data and other attributes defined here:\n",
      "     |\n",
      "     |  max = datetime.time(23, 59, 59, 999999)\n",
      "     |\n",
      "     |  min = datetime.time(0, 0)\n",
      "     |\n",
      "     |  resolution = datetime.timedelta(microseconds=1)\n",
      "\n",
      "    class timedelta(builtins.object)\n",
      "     |  Difference between two datetime values.\n",
      "     |\n",
      "     |  timedelta(days=0, seconds=0, microseconds=0, milliseconds=0, minutes=0, hours=0, weeks=0)\n",
      "     |\n",
      "     |  All arguments are optional and default to 0.\n",
      "     |  Arguments may be integers or floats, and may be positive or negative.\n",
      "     |\n",
      "     |  Methods defined here:\n",
      "     |\n",
      "     |  __abs__(self, /)\n",
      "     |      abs(self)\n",
      "     |\n",
      "     |  __add__(self, value, /)\n",
      "     |      Return self+value.\n",
      "     |\n",
      "     |  __bool__(self, /)\n",
      "     |      True if self else False\n",
      "     |\n",
      "     |  __divmod__(self, value, /)\n",
      "     |      Return divmod(self, value).\n",
      "     |\n",
      "     |  __eq__(self, value, /)\n",
      "     |      Return self==value.\n",
      "     |\n",
      "     |  __floordiv__(self, value, /)\n",
      "     |      Return self//value.\n",
      "     |\n",
      "     |  __ge__(self, value, /)\n",
      "     |      Return self>=value.\n",
      "     |\n",
      "     |  __gt__(self, value, /)\n",
      "     |      Return self>value.\n",
      "     |\n",
      "     |  __hash__(self, /)\n",
      "     |      Return hash(self).\n",
      "     |\n",
      "     |  __le__(self, value, /)\n",
      "     |      Return self<=value.\n",
      "     |\n",
      "     |  __lt__(self, value, /)\n",
      "     |      Return self<value.\n",
      "     |\n",
      "     |  __mod__(self, value, /)\n",
      "     |      Return self%value.\n",
      "     |\n",
      "     |  __mul__(self, value, /)\n",
      "     |      Return self*value.\n",
      "     |\n",
      "     |  __ne__(self, value, /)\n",
      "     |      Return self!=value.\n",
      "     |\n",
      "     |  __neg__(self, /)\n",
      "     |      -self\n",
      "     |\n",
      "     |  __pos__(self, /)\n",
      "     |      +self\n",
      "     |\n",
      "     |  __radd__(self, value, /)\n",
      "     |      Return value+self.\n",
      "     |\n",
      "     |  __rdivmod__(self, value, /)\n",
      "     |      Return divmod(value, self).\n",
      "     |\n",
      "     |  __reduce__(self, /)\n",
      "     |      __reduce__() -> (cls, state)\n",
      "     |\n",
      "     |  __repr__(self, /)\n",
      "     |      Return repr(self).\n",
      "     |\n",
      "     |  __rfloordiv__(self, value, /)\n",
      "     |      Return value//self.\n",
      "     |\n",
      "     |  __rmod__(self, value, /)\n",
      "     |      Return value%self.\n",
      "     |\n",
      "     |  __rmul__(self, value, /)\n",
      "     |      Return value*self.\n",
      "     |\n",
      "     |  __rsub__(self, value, /)\n",
      "     |      Return value-self.\n",
      "     |\n",
      "     |  __rtruediv__(self, value, /)\n",
      "     |      Return value/self.\n",
      "     |\n",
      "     |  __str__(self, /)\n",
      "     |      Return str(self).\n",
      "     |\n",
      "     |  __sub__(self, value, /)\n",
      "     |      Return self-value.\n",
      "     |\n",
      "     |  __truediv__(self, value, /)\n",
      "     |      Return self/value.\n",
      "     |\n",
      "     |  total_seconds(self, /)\n",
      "     |      Total seconds in the duration.\n",
      "     |\n",
      "     |  ----------------------------------------------------------------------\n",
      "     |  Static methods defined here:\n",
      "     |\n",
      "     |  __new__(*args, **kwargs)\n",
      "     |      Create and return a new object.  See help(type) for accurate signature.\n",
      "     |\n",
      "     |  ----------------------------------------------------------------------\n",
      "     |  Data descriptors defined here:\n",
      "     |\n",
      "     |  days\n",
      "     |      Number of days.\n",
      "     |\n",
      "     |  microseconds\n",
      "     |      Number of microseconds (>= 0 and less than 1 second).\n",
      "     |\n",
      "     |  seconds\n",
      "     |      Number of seconds (>= 0 and less than 1 day).\n",
      "     |\n",
      "     |  ----------------------------------------------------------------------\n",
      "     |  Data and other attributes defined here:\n",
      "     |\n",
      "     |  max = datetime.timedelta(days=999999999, seconds=86399, microseconds=9...\n",
      "     |\n",
      "     |  min = datetime.timedelta(days=-999999999)\n",
      "     |\n",
      "     |  resolution = datetime.timedelta(microseconds=1)\n",
      "\n",
      "    class timezone(tzinfo)\n",
      "     |  Fixed offset from UTC implementation of tzinfo.\n",
      "     |\n",
      "     |  Method resolution order:\n",
      "     |      timezone\n",
      "     |      tzinfo\n",
      "     |      builtins.object\n",
      "     |\n",
      "     |  Methods defined here:\n",
      "     |\n",
      "     |  __eq__(self, value, /)\n",
      "     |      Return self==value.\n",
      "     |\n",
      "     |  __ge__(self, value, /)\n",
      "     |      Return self>=value.\n",
      "     |\n",
      "     |  __getinitargs__(self, /)\n",
      "     |      pickle support\n",
      "     |\n",
      "     |  __gt__(self, value, /)\n",
      "     |      Return self>value.\n",
      "     |\n",
      "     |  __hash__(self, /)\n",
      "     |      Return hash(self).\n",
      "     |\n",
      "     |  __le__(self, value, /)\n",
      "     |      Return self<=value.\n",
      "     |\n",
      "     |  __lt__(self, value, /)\n",
      "     |      Return self<value.\n",
      "     |\n",
      "     |  __ne__(self, value, /)\n",
      "     |      Return self!=value.\n",
      "     |\n",
      "     |  __repr__(self, /)\n",
      "     |      Return repr(self).\n",
      "     |\n",
      "     |  __str__(self, /)\n",
      "     |      Return str(self).\n",
      "     |\n",
      "     |  dst(self, object, /)\n",
      "     |      Return None.\n",
      "     |\n",
      "     |  fromutc(self, object, /)\n",
      "     |      datetime in UTC -> datetime in local time.\n",
      "     |\n",
      "     |  tzname(self, object, /)\n",
      "     |      If name is specified when timezone is created, returns the name.  Otherwise returns offset as 'UTC(+|-)HH:MM'.\n",
      "     |\n",
      "     |  utcoffset(self, object, /)\n",
      "     |      Return fixed offset.\n",
      "     |\n",
      "     |  ----------------------------------------------------------------------\n",
      "     |  Static methods defined here:\n",
      "     |\n",
      "     |  __new__(*args, **kwargs)\n",
      "     |      Create and return a new object.  See help(type) for accurate signature.\n",
      "     |\n",
      "     |  ----------------------------------------------------------------------\n",
      "     |  Data and other attributes defined here:\n",
      "     |\n",
      "     |  max = datetime.timezone(datetime.timedelta(seconds=86340))\n",
      "     |\n",
      "     |  min = datetime.timezone(datetime.timedelta(days=-1, seconds=60))\n",
      "     |\n",
      "     |  utc = datetime.timezone.utc\n",
      "     |\n",
      "     |  ----------------------------------------------------------------------\n",
      "     |  Methods inherited from tzinfo:\n",
      "     |\n",
      "     |  __reduce__(self, /)\n",
      "     |      -> (cls, state)\n",
      "\n",
      "    class tzinfo(builtins.object)\n",
      "     |  Abstract base class for time zone info objects.\n",
      "     |\n",
      "     |  Methods defined here:\n",
      "     |\n",
      "     |  __reduce__(self, /)\n",
      "     |      -> (cls, state)\n",
      "     |\n",
      "     |  dst(self, object, /)\n",
      "     |      datetime -> DST offset as timedelta positive east of UTC.\n",
      "     |\n",
      "     |  fromutc(self, object, /)\n",
      "     |      datetime in UTC -> datetime in local time.\n",
      "     |\n",
      "     |  tzname(self, object, /)\n",
      "     |      datetime -> string name of time zone.\n",
      "     |\n",
      "     |  utcoffset(self, object, /)\n",
      "     |      datetime -> timedelta showing offset from UTC, negative values indicating West of UTC\n",
      "     |\n",
      "     |  ----------------------------------------------------------------------\n",
      "     |  Static methods defined here:\n",
      "     |\n",
      "     |  __new__(*args, **kwargs)\n",
      "     |      Create and return a new object.  See help(type) for accurate signature.\n",
      "\n",
      "DATA\n",
      "    MAXYEAR = 9999\n",
      "    MINYEAR = 1\n",
      "    UTC = datetime.timezone.utc\n",
      "    __all__ = ('date', 'datetime', 'time', 'timedelta', 'timezone', 'tzinf...\n",
      "\n",
      "FILE\n",
      "    d:\\data science\\python anaconda\\lib\\datetime.py\n",
      "\n",
      "\n"
     ]
    }
   ],
   "source": [
    "help(datetime)"
   ]
  },
  {
   "cell_type": "code",
   "execution_count": 46,
   "id": "f7d9000e-b3af-467b-bac0-ced2e374fba1",
   "metadata": {},
   "outputs": [],
   "source": [
    "today = datetime.datetime.now()"
   ]
  },
  {
   "cell_type": "code",
   "execution_count": 47,
   "id": "c742e9ea-4a5e-4472-98a2-c6d4b455f09f",
   "metadata": {},
   "outputs": [
    {
     "name": "stdout",
     "output_type": "stream",
     "text": [
      "Date: 2025-07-08\n",
      "Day: Tuesday\n"
     ]
    }
   ],
   "source": [
    "print(f\"Date: {today.strftime('%Y-%m-%d')}\")\n",
    "print(f\"Day: {today.strftime('%A')}\")"
   ]
  },
  {
   "cell_type": "code",
   "execution_count": 48,
   "id": "e6397cee-5ff1-4176-abb9-07099161e4db",
   "metadata": {},
   "outputs": [],
   "source": [
    "#List"
   ]
  },
  {
   "cell_type": "code",
   "execution_count": 49,
   "id": "a39a774b-39ee-4d8f-82ea-e44a89bc2976",
   "metadata": {},
   "outputs": [],
   "source": [
    "list1=[] #empty list"
   ]
  },
  {
   "cell_type": "code",
   "execution_count": 50,
   "id": "f026ce8d-82fe-4425-a310-db3036d7ff59",
   "metadata": {},
   "outputs": [],
   "source": [
    "list2= [\"a\",\"b\",\"c\",\"d\"]"
   ]
  },
  {
   "cell_type": "code",
   "execution_count": 51,
   "id": "0fba55e6-fed0-4135-b2d9-32a50485cf42",
   "metadata": {},
   "outputs": [
    {
     "data": {
      "text/plain": [
       "[]"
      ]
     },
     "execution_count": 51,
     "metadata": {},
     "output_type": "execute_result"
    }
   ],
   "source": [
    "list1"
   ]
  },
  {
   "cell_type": "code",
   "execution_count": 52,
   "id": "09d26180-ac1d-4bce-ae54-39f3722f3c0e",
   "metadata": {},
   "outputs": [
    {
     "data": {
      "text/plain": [
       "['a', 'b', 'c', 'd']"
      ]
     },
     "execution_count": 52,
     "metadata": {},
     "output_type": "execute_result"
    }
   ],
   "source": [
    "list2"
   ]
  },
  {
   "cell_type": "code",
   "execution_count": 53,
   "id": "14625c64-933a-40ba-b0bf-14227d6b28a0",
   "metadata": {},
   "outputs": [],
   "source": [
    "list3= [\"sonali\",\"manali\",\"gaju\", \"vishal\"]"
   ]
  },
  {
   "cell_type": "code",
   "execution_count": 54,
   "id": "04d27ab0-3d59-4df6-8f83-d684a14a1963",
   "metadata": {},
   "outputs": [
    {
     "data": {
      "text/plain": [
       "['sonali', 'manali', 'gaju', 'vishal']"
      ]
     },
     "execution_count": 54,
     "metadata": {},
     "output_type": "execute_result"
    }
   ],
   "source": [
    "list3"
   ]
  },
  {
   "cell_type": "code",
   "execution_count": 55,
   "id": "7b18e73f-1cf3-4e73-9bc2-8ba67ccc2e24",
   "metadata": {},
   "outputs": [],
   "source": [
    "list2.extend(list3) #merging both lists"
   ]
  },
  {
   "cell_type": "code",
   "execution_count": 56,
   "id": "41f948b4-0747-4657-ad54-1be88e624ff3",
   "metadata": {},
   "outputs": [
    {
     "data": {
      "text/plain": [
       "['a', 'b', 'c', 'd', 'sonali', 'manali', 'gaju', 'vishal']"
      ]
     },
     "execution_count": 56,
     "metadata": {},
     "output_type": "execute_result"
    }
   ],
   "source": [
    "list2"
   ]
  },
  {
   "cell_type": "code",
   "execution_count": 57,
   "id": "80225433-3ec9-4767-9a85-14d013636c02",
   "metadata": {},
   "outputs": [],
   "source": [
    "list2.append(\"e\")"
   ]
  },
  {
   "cell_type": "code",
   "execution_count": 58,
   "id": "917ee33b-1642-4dbf-82c7-1b8da1d451a7",
   "metadata": {},
   "outputs": [
    {
     "data": {
      "text/plain": [
       "['a', 'b', 'c', 'd', 'sonali', 'manali', 'gaju', 'vishal', 'e']"
      ]
     },
     "execution_count": 58,
     "metadata": {},
     "output_type": "execute_result"
    }
   ],
   "source": [
    "list2"
   ]
  },
  {
   "cell_type": "code",
   "execution_count": 59,
   "id": "3242d96c-f41b-4fb0-ba20-c1c89340b551",
   "metadata": {},
   "outputs": [],
   "source": [
    "list2.remove(\"e\")"
   ]
  },
  {
   "cell_type": "code",
   "execution_count": 60,
   "id": "7f9800b3-0c94-476e-8269-63e0671cafcc",
   "metadata": {},
   "outputs": [
    {
     "data": {
      "text/plain": [
       "['a', 'b', 'c', 'd', 'sonali', 'manali', 'gaju', 'vishal']"
      ]
     },
     "execution_count": 60,
     "metadata": {},
     "output_type": "execute_result"
    }
   ],
   "source": [
    "list2"
   ]
  },
  {
   "cell_type": "code",
   "execution_count": 61,
   "id": "98d8987c-9581-4ff1-8c62-16074436c5c6",
   "metadata": {},
   "outputs": [
    {
     "data": {
      "text/plain": [
       "['a',\n",
       " 'b',\n",
       " 'c',\n",
       " 'd',\n",
       " 'sonali',\n",
       " 'manali',\n",
       " 'gaju',\n",
       " 'vishal',\n",
       " 'sonali',\n",
       " 'manali',\n",
       " 'gaju',\n",
       " 'vishal']"
      ]
     },
     "execution_count": 61,
     "metadata": {},
     "output_type": "execute_result"
    }
   ],
   "source": [
    "list2+list3 #append will merge 2 list, + will also merge but its just a viewor else create a new list"
   ]
  },
  {
   "cell_type": "code",
   "execution_count": 62,
   "id": "7aaeeb64-1d19-43f8-834c-dc665e2e9a22",
   "metadata": {},
   "outputs": [],
   "source": [
    "#index and slicing"
   ]
  },
  {
   "cell_type": "code",
   "execution_count": 64,
   "id": "0f25927a-cabc-42a3-b664-c253b9225bfe",
   "metadata": {},
   "outputs": [
    {
     "data": {
      "text/plain": [
       "['a', 'b', 'c', 'd', 'sonali', 'manali', 'gaju', 'vishal']"
      ]
     },
     "execution_count": 64,
     "metadata": {},
     "output_type": "execute_result"
    }
   ],
   "source": [
    "list2"
   ]
  },
  {
   "cell_type": "code",
   "execution_count": 65,
   "id": "58517819-6101-4bca-bda8-f55c464a840d",
   "metadata": {},
   "outputs": [
    {
     "data": {
      "text/plain": [
       "['b', 'c', 'd', 'sonali']"
      ]
     },
     "execution_count": 65,
     "metadata": {},
     "output_type": "execute_result"
    }
   ],
   "source": [
    "list2[1:5]"
   ]
  },
  {
   "cell_type": "code",
   "execution_count": 66,
   "id": "c7f3fc59-f2ce-4d60-adfe-eb172fee9411",
   "metadata": {},
   "outputs": [
    {
     "data": {
      "text/plain": [
       "['a', 'b', 'c', 'd', 'sonali', 'manali', 'gaju', 'vishal']"
      ]
     },
     "execution_count": 66,
     "metadata": {},
     "output_type": "execute_result"
    }
   ],
   "source": [
    "list2[0:]"
   ]
  },
  {
   "cell_type": "code",
   "execution_count": 71,
   "id": "8e71b5c6-1a55-445a-b321-f48009e6df62",
   "metadata": {},
   "outputs": [
    {
     "data": {
      "text/plain": [
       "['sonali']"
      ]
     },
     "execution_count": 71,
     "metadata": {},
     "output_type": "execute_result"
    }
   ],
   "source": [
    "list2[4:5]"
   ]
  },
  {
   "cell_type": "code",
   "execution_count": 73,
   "id": "29a9aacf-3f9f-44a4-a07d-03cce515e711",
   "metadata": {},
   "outputs": [
    {
     "data": {
      "text/plain": [
       "['a', 'b', 'c', 'd']"
      ]
     },
     "execution_count": 73,
     "metadata": {},
     "output_type": "execute_result"
    }
   ],
   "source": [
    "list2 [0:-4]"
   ]
  },
  {
   "cell_type": "code",
   "execution_count": 75,
   "id": "c48d5248-5a4e-41f0-ac75-7b077166cc73",
   "metadata": {},
   "outputs": [
    {
     "data": {
      "text/plain": [
       "['a', 'b', 'c', 'd']"
      ]
     },
     "execution_count": 75,
     "metadata": {},
     "output_type": "execute_result"
    }
   ],
   "source": [
    "list2 [0:4]"
   ]
  },
  {
   "cell_type": "code",
   "execution_count": 76,
   "id": "a1676e97-c6cc-4bb7-bcf9-03b256e3c8ca",
   "metadata": {},
   "outputs": [
    {
     "data": {
      "text/plain": [
       "[]"
      ]
     },
     "execution_count": 76,
     "metadata": {},
     "output_type": "execute_result"
    }
   ],
   "source": [
    "list2 [-1:-5] # slicing always work from left to right, even if the minus scle is from right to left"
   ]
  },
  {
   "cell_type": "code",
   "execution_count": 77,
   "id": "e4493978-b4ae-465c-b435-8e89211be4ef",
   "metadata": {},
   "outputs": [
    {
     "data": {
      "text/plain": [
       "['d', 'sonali', 'manali', 'gaju']"
      ]
     },
     "execution_count": 77,
     "metadata": {},
     "output_type": "execute_result"
    }
   ],
   "source": [
    "list2 [-5:-1]"
   ]
  },
  {
   "cell_type": "code",
   "execution_count": 79,
   "id": "d7d8729c-a1f3-4ef2-bff1-8bacc5cbc24b",
   "metadata": {},
   "outputs": [
    {
     "data": {
      "text/plain": [
       "['sonali', 'manali', 'gaju']"
      ]
     },
     "execution_count": 79,
     "metadata": {},
     "output_type": "execute_result"
    }
   ],
   "source": [
    "list2[-4:-1]"
   ]
  },
  {
   "cell_type": "code",
   "execution_count": 82,
   "id": "0ce57159-7197-4ed4-b539-0ecd0af8ffbd",
   "metadata": {},
   "outputs": [],
   "source": [
    "#creation of new list using old list\n"
   ]
  },
  {
   "cell_type": "code",
   "execution_count": 87,
   "id": "f841ae94-321d-40c3-9e5c-9aaa8aaba685",
   "metadata": {},
   "outputs": [],
   "source": [
    "\n",
    "list4=[ list2[4] , list2[7]]"
   ]
  },
  {
   "cell_type": "code",
   "execution_count": 88,
   "id": "647d15f1-2851-4a8d-8466-9d9a4dd1f24a",
   "metadata": {},
   "outputs": [
    {
     "name": "stdout",
     "output_type": "stream",
     "text": [
      "['sonali', 'vishal']\n"
     ]
    }
   ],
   "source": [
    "print (list4)"
   ]
  },
  {
   "cell_type": "code",
   "execution_count": 90,
   "id": "881713c0-a7d3-430f-aa3a-8da7b5f2b203",
   "metadata": {},
   "outputs": [],
   "source": [
    "String1 = \"python\""
   ]
  },
  {
   "cell_type": "code",
   "execution_count": 91,
   "id": "7f08d2b7-6f36-4459-a789-dd9bce0af7cf",
   "metadata": {},
   "outputs": [
    {
     "data": {
      "text/plain": [
       "'python'"
      ]
     },
     "execution_count": 91,
     "metadata": {},
     "output_type": "execute_result"
    }
   ],
   "source": [
    "String1"
   ]
  },
  {
   "cell_type": "code",
   "execution_count": 92,
   "id": "c86a30a6-83f0-4577-9d5c-be5a10da52c7",
   "metadata": {},
   "outputs": [
    {
     "data": {
      "text/plain": [
       "'th'"
      ]
     },
     "execution_count": 92,
     "metadata": {},
     "output_type": "execute_result"
    }
   ],
   "source": [
    "String1[2:4]"
   ]
  },
  {
   "cell_type": "code",
   "execution_count": 93,
   "id": "ea1d2184-2f5e-4942-8951-883220dcdb63",
   "metadata": {},
   "outputs": [
    {
     "data": {
      "text/plain": [
       "'thon'"
      ]
     },
     "execution_count": 93,
     "metadata": {},
     "output_type": "execute_result"
    }
   ],
   "source": [
    "String1[2:7] # 7 is not there so it will just take everything after slicing 2"
   ]
  },
  {
   "cell_type": "code",
   "execution_count": 94,
   "id": "de73794f-f9ba-481c-8563-480a58dfbde4",
   "metadata": {},
   "outputs": [
    {
     "data": {
      "text/plain": [
       "'thon'"
      ]
     },
     "execution_count": 94,
     "metadata": {},
     "output_type": "execute_result"
    }
   ],
   "source": [
    "String1[-4:] #Using reverse"
   ]
  },
  {
   "cell_type": "code",
   "execution_count": 95,
   "id": "8b75fbc0-73ac-4ca3-8539-b6c9e9d32118",
   "metadata": {},
   "outputs": [],
   "source": [
    "#find()\n",
    "\n",
    "string2 = \"python\""
   ]
  },
  {
   "cell_type": "code",
   "execution_count": 96,
   "id": "59ea1a21-3499-448c-b62e-e619ebb44328",
   "metadata": {},
   "outputs": [
    {
     "data": {
      "text/plain": [
       "'python'"
      ]
     },
     "execution_count": 96,
     "metadata": {},
     "output_type": "execute_result"
    }
   ],
   "source": [
    "string2"
   ]
  },
  {
   "cell_type": "code",
   "execution_count": 100,
   "id": "5ee088b4-2495-474f-955c-93114d08af23",
   "metadata": {},
   "outputs": [
    {
     "data": {
      "text/plain": [
       "0"
      ]
     },
     "execution_count": 100,
     "metadata": {},
     "output_type": "execute_result"
    }
   ],
   "source": [
    "string2.find('python')"
   ]
  },
  {
   "cell_type": "code",
   "execution_count": 101,
   "id": "c72f92f1-96dd-4be5-b0af-a85122b57abe",
   "metadata": {},
   "outputs": [
    {
     "data": {
      "text/plain": [
       "0"
      ]
     },
     "execution_count": 101,
     "metadata": {},
     "output_type": "execute_result"
    }
   ],
   "source": [
    "string2.find('python')"
   ]
  },
  {
   "cell_type": "code",
   "execution_count": 103,
   "id": "8837b97c-cc59-45ef-a0e4-a24a730034c6",
   "metadata": {},
   "outputs": [
    {
     "data": {
      "text/plain": [
       "'anaconda'"
      ]
     },
     "execution_count": 103,
     "metadata": {},
     "output_type": "execute_result"
    }
   ],
   "source": [
    "#replace\n",
    "\n",
    "string2.replace('python', 'anaconda')"
   ]
  },
  {
   "cell_type": "code",
   "execution_count": 104,
   "id": "f33a3f44-8a03-43dd-b27e-3f2564dec041",
   "metadata": {},
   "outputs": [],
   "source": [
    "str= 'e, u,r,e,k,a'"
   ]
  },
  {
   "cell_type": "code",
   "execution_count": 105,
   "id": "320bc21b-d4bc-4a9c-a8ba-32f5215e5384",
   "metadata": {},
   "outputs": [
    {
     "data": {
      "text/plain": [
       "'e, u,r,e,k,a'"
      ]
     },
     "execution_count": 105,
     "metadata": {},
     "output_type": "execute_result"
    }
   ],
   "source": [
    "str"
   ]
  },
  {
   "cell_type": "code",
   "execution_count": 107,
   "id": "fc6c03eb-e8fd-424e-b249-cb21dc8e63ba",
   "metadata": {},
   "outputs": [
    {
     "data": {
      "text/plain": [
       "['e', ' u', 'r', 'e', 'k', 'a']"
      ]
     },
     "execution_count": 107,
     "metadata": {},
     "output_type": "execute_result"
    }
   ],
   "source": [
    "str.split(',')"
   ]
  },
  {
   "cell_type": "code",
   "execution_count": 109,
   "id": "019efbbe-460b-4184-b4ee-5c53190e9bd5",
   "metadata": {},
   "outputs": [],
   "source": [
    "str1=\" python\""
   ]
  },
  {
   "cell_type": "code",
   "execution_count": 110,
   "id": "a8fa0e79-81be-4afb-accc-ad043d358850",
   "metadata": {},
   "outputs": [
    {
     "data": {
      "text/plain": [
       "' python'"
      ]
     },
     "execution_count": 110,
     "metadata": {},
     "output_type": "execute_result"
    }
   ],
   "source": [
    "str1"
   ]
  },
  {
   "cell_type": "code",
   "execution_count": 114,
   "id": "81ee739d-16c4-4d83-9477-fb9dd8b75339",
   "metadata": {},
   "outputs": [
    {
     "data": {
      "text/plain": [
       "1"
      ]
     },
     "execution_count": 114,
     "metadata": {},
     "output_type": "execute_result"
    }
   ],
   "source": [
    "str1.count('o',2,6) #will search o from 2 to 6 index in python keyword"
   ]
  },
  {
   "cell_type": "code",
   "execution_count": 115,
   "id": "22b63d58-2a28-4416-a9cb-441454e5b1d7",
   "metadata": {},
   "outputs": [
    {
     "data": {
      "text/plain": [
       "' PYTHON'"
      ]
     },
     "execution_count": 115,
     "metadata": {},
     "output_type": "execute_result"
    }
   ],
   "source": [
    "str1.upper()"
   ]
  },
  {
   "cell_type": "code",
   "execution_count": 117,
   "id": "75a873c7-b806-4350-930b-7453819820d0",
   "metadata": {},
   "outputs": [
    {
     "data": {
      "text/plain": [
       "'y'"
      ]
     },
     "execution_count": 117,
     "metadata": {},
     "output_type": "execute_result"
    }
   ],
   "source": [
    "max(str1)"
   ]
  },
  {
   "cell_type": "markdown",
   "id": "8dc63e4b-508d-4d61-be73-9f5437bcb1b7",
   "metadata": {},
   "source": [
    "min(str1)"
   ]
  },
  {
   "cell_type": "code",
   "execution_count": 118,
   "id": "68b7a1ac-bc0e-42b1-a19b-338111842946",
   "metadata": {},
   "outputs": [
    {
     "data": {
      "text/plain": [
       "' '"
      ]
     },
     "execution_count": 118,
     "metadata": {},
     "output_type": "execute_result"
    }
   ],
   "source": [
    "min (str1)"
   ]
  },
  {
   "cell_type": "code",
   "execution_count": 119,
   "id": "bc32aec2-7b67-4a02-a865-96a1f8fc8f79",
   "metadata": {},
   "outputs": [
    {
     "data": {
      "text/plain": [
       "' '"
      ]
     },
     "execution_count": 119,
     "metadata": {},
     "output_type": "execute_result"
    }
   ],
   "source": [
    "min(str1)"
   ]
  },
  {
   "cell_type": "code",
   "execution_count": 120,
   "id": "5ae55db1-b38e-422b-8d35-f38594950d4c",
   "metadata": {},
   "outputs": [
    {
     "data": {
      "text/plain": [
       "'h'"
      ]
     },
     "execution_count": 120,
     "metadata": {},
     "output_type": "execute_result"
    }
   ],
   "source": [
    "min(str1.replace(' ', ''))"
   ]
  },
  {
   "cell_type": "code",
   "execution_count": 122,
   "id": "2469bdd0-492b-49a3-8216-c505be0251d2",
   "metadata": {},
   "outputs": [
    {
     "data": {
      "text/plain": [
       "False"
      ]
     },
     "execution_count": 122,
     "metadata": {},
     "output_type": "execute_result"
    }
   ],
   "source": [
    "str1.isalpha() \n",
    "#The isalpha() method checks if all characters in the string are alphabetic (letters only). \n",
    "#If your string contains spaces, numbers, or special characters, it will return False."
   ]
  },
  {
   "cell_type": "code",
   "execution_count": 124,
   "id": "c5f1eac6-10d0-4127-84d3-1230ee0c731b",
   "metadata": {},
   "outputs": [
    {
     "data": {
      "text/plain": [
       "False"
      ]
     },
     "execution_count": 124,
     "metadata": {},
     "output_type": "execute_result"
    }
   ],
   "source": [
    "str1.isalnum()"
   ]
  },
  {
   "cell_type": "code",
   "execution_count": 125,
   "id": "2eba774b-405b-49e0-8661-141f701796e4",
   "metadata": {},
   "outputs": [],
   "source": [
    "#tuple\n"
   ]
  },
  {
   "cell_type": "code",
   "execution_count": 127,
   "id": "6e260e46-e302-4191-a527-d53c4ae580e8",
   "metadata": {},
   "outputs": [],
   "source": [
    "tuple = (\"a\" , \"b\" , \"c\")"
   ]
  },
  {
   "cell_type": "code",
   "execution_count": 128,
   "id": "77245dd1-1397-45a6-a227-f7dd840ad3d2",
   "metadata": {},
   "outputs": [
    {
     "data": {
      "text/plain": [
       "('a', 'b', 'c')"
      ]
     },
     "execution_count": 128,
     "metadata": {},
     "output_type": "execute_result"
    }
   ],
   "source": [
    "tuple"
   ]
  },
  {
   "cell_type": "code",
   "execution_count": 131,
   "id": "82de81b9-3cf5-4b85-8770-4c39504b56a5",
   "metadata": {},
   "outputs": [
    {
     "data": {
      "text/plain": [
       "('a', 'b', 'c', 'a', 'b', 'c', 'a', 'b', 'c')"
      ]
     },
     "execution_count": 131,
     "metadata": {},
     "output_type": "execute_result"
    }
   ],
   "source": [
    "tuple*3"
   ]
  },
  {
   "cell_type": "code",
   "execution_count": 135,
   "id": "188c6e09-60f7-4bd8-9dfa-7344b68c1983",
   "metadata": {},
   "outputs": [
    {
     "ename": "TypeError",
     "evalue": "can only concatenate tuple (not \"str\") to tuple",
     "output_type": "error",
     "traceback": [
      "\u001b[1;31m---------------------------------------------------------------------------\u001b[0m",
      "\u001b[1;31mTypeError\u001b[0m                                 Traceback (most recent call last)",
      "Cell \u001b[1;32mIn[135], line 1\u001b[0m\n\u001b[1;32m----> 1\u001b[0m new_tuple \u001b[38;5;241m=\u001b[39m \u001b[38;5;28mtuple\u001b[39m \u001b[38;5;241m+\u001b[39m (\u001b[38;5;124m'\u001b[39m\u001b[38;5;124me\u001b[39m\u001b[38;5;124m'\u001b[39m)\n",
      "\u001b[1;31mTypeError\u001b[0m: can only concatenate tuple (not \"str\") to tuple"
     ]
    }
   ],
   "source": [
    "new_tuple = tuple + ('e')"
   ]
  },
  {
   "cell_type": "code",
   "execution_count": 136,
   "id": "39b1d5f5-c4bd-4228-91d1-dd51e3c2e9d2",
   "metadata": {},
   "outputs": [],
   "source": [
    "new_tuple = tuple + (\"e\",)"
   ]
  },
  {
   "cell_type": "code",
   "execution_count": 137,
   "id": "dd10f6c9-3d0a-4359-bec5-9d84d9bd306f",
   "metadata": {},
   "outputs": [
    {
     "data": {
      "text/plain": [
       "('a', 'b', 'c', 'e')"
      ]
     },
     "execution_count": 137,
     "metadata": {},
     "output_type": "execute_result"
    }
   ],
   "source": [
    "new_tuple"
   ]
  },
  {
   "cell_type": "code",
   "execution_count": 138,
   "id": "6ec4e7ea-d6d5-409b-9a8a-f7f6b8e64b6e",
   "metadata": {},
   "outputs": [
    {
     "data": {
      "text/plain": [
       "('b',)"
      ]
     },
     "execution_count": 138,
     "metadata": {},
     "output_type": "execute_result"
    }
   ],
   "source": [
    "tuple [1:2]"
   ]
  },
  {
   "cell_type": "code",
   "execution_count": 141,
   "id": "e14abdfd-da33-4cad-a122-c81c5cae4c3a",
   "metadata": {},
   "outputs": [
    {
     "data": {
      "text/plain": [
       "('a', 'b', 'c')"
      ]
     },
     "execution_count": 141,
     "metadata": {},
     "output_type": "execute_result"
    }
   ],
   "source": [
    "tuple[0:]"
   ]
  },
  {
   "cell_type": "code",
   "execution_count": 142,
   "id": "93aa821f-599e-495c-8189-c51c25e449aa",
   "metadata": {},
   "outputs": [],
   "source": [
    "#lists\n"
   ]
  },
  {
   "cell_type": "code",
   "execution_count": 145,
   "id": "e31c496b-9fc1-40e4-b9e8-7ae17f820ea8",
   "metadata": {},
   "outputs": [],
   "source": [
    "List5 = (\"a\",\"b\",\"c\", 1,2,3, \"sonali\", \"vishal\",\"gaju\",\"manali\")"
   ]
  },
  {
   "cell_type": "code",
   "execution_count": 144,
   "id": "fc213778-9402-45ae-883e-ace05bd99590",
   "metadata": {},
   "outputs": [
    {
     "data": {
      "text/plain": [
       "list"
      ]
     },
     "execution_count": 144,
     "metadata": {},
     "output_type": "execute_result"
    }
   ],
   "source": [
    "list"
   ]
  },
  {
   "cell_type": "code",
   "execution_count": 146,
   "id": "1e1781a2-5113-449d-8a97-9c71ec12a4bf",
   "metadata": {},
   "outputs": [
    {
     "name": "stdout",
     "output_type": "stream",
     "text": [
      "('a', 'b', 'c', 1, 2, 3, 'sonali', 'vishal', 'gaju', 'manali')\n"
     ]
    }
   ],
   "source": [
    "print(List5)"
   ]
  },
  {
   "cell_type": "code",
   "execution_count": 153,
   "id": "41194aaf-ba4d-469b-a62d-0dea0a9211f9",
   "metadata": {},
   "outputs": [
    {
     "ename": "AttributeError",
     "evalue": "'tuple' object has no attribute 'pop'",
     "output_type": "error",
     "traceback": [
      "\u001b[1;31m---------------------------------------------------------------------------\u001b[0m",
      "\u001b[1;31mAttributeError\u001b[0m                            Traceback (most recent call last)",
      "Cell \u001b[1;32mIn[153], line 1\u001b[0m\n\u001b[1;32m----> 1\u001b[0m new_list \u001b[38;5;241m=\u001b[39m List5\u001b[38;5;241m.\u001b[39mpop()\n",
      "\u001b[1;31mAttributeError\u001b[0m: 'tuple' object has no attribute 'pop'"
     ]
    }
   ],
   "source": [
    "new_list = List5.pop()"
   ]
  },
  {
   "cell_type": "raw",
   "id": "93df8678-88d3-4b50-b156-5ee5ae3fe6af",
   "metadata": {},
   "source": [
    "List5= list(List5)"
   ]
  },
  {
   "cell_type": "code",
   "execution_count": 156,
   "id": "00fcb7a5-aa07-4b79-b243-8288c3112234",
   "metadata": {},
   "outputs": [
    {
     "data": {
      "text/plain": [
       "('a', 'b', 'c', 1, 2, 3, 'sonali', 'vishal', 'gaju', 'manali')"
      ]
     },
     "execution_count": 156,
     "metadata": {},
     "output_type": "execute_result"
    }
   ],
   "source": [
    "List5"
   ]
  },
  {
   "cell_type": "code",
   "execution_count": 157,
   "id": "5fa57d39-55d1-4c50-a673-db1feda37d2e",
   "metadata": {},
   "outputs": [
    {
     "ename": "AttributeError",
     "evalue": "'tuple' object has no attribute 'pop'",
     "output_type": "error",
     "traceback": [
      "\u001b[1;31m---------------------------------------------------------------------------\u001b[0m",
      "\u001b[1;31mAttributeError\u001b[0m                            Traceback (most recent call last)",
      "Cell \u001b[1;32mIn[157], line 1\u001b[0m\n\u001b[1;32m----> 1\u001b[0m new_list \u001b[38;5;241m=\u001b[39m List5\u001b[38;5;241m.\u001b[39mpop()\n",
      "\u001b[1;31mAttributeError\u001b[0m: 'tuple' object has no attribute 'pop'"
     ]
    }
   ],
   "source": [
    "new_list = List5.pop()"
   ]
  },
  {
   "cell_type": "code",
   "execution_count": 155,
   "id": "8af8cbbb-c77c-4f4d-b143-b6da614fdaa1",
   "metadata": {},
   "outputs": [
    {
     "ename": "AttributeError",
     "evalue": "'tuple' object has no attribute 'pop'",
     "output_type": "error",
     "traceback": [
      "\u001b[1;31m---------------------------------------------------------------------------\u001b[0m",
      "\u001b[1;31mAttributeError\u001b[0m                            Traceback (most recent call last)",
      "Cell \u001b[1;32mIn[155], line 1\u001b[0m\n\u001b[1;32m----> 1\u001b[0m removed_element \u001b[38;5;241m=\u001b[39m List5\u001b[38;5;241m.\u001b[39mpop()\n",
      "\u001b[1;31mAttributeError\u001b[0m: 'tuple' object has no attribute 'pop'"
     ]
    }
   ],
   "source": [
    "removed_element = List5.pop()"
   ]
  },
  {
   "cell_type": "code",
   "execution_count": 158,
   "id": "63b35f81-575a-4819-9559-b9c6efe65c78",
   "metadata": {},
   "outputs": [
    {
     "name": "stdout",
     "output_type": "stream",
     "text": [
      "Help on tuple object:\n",
      "\n",
      "class tuple(object)\n",
      " |  tuple(iterable=(), /)\n",
      " |\n",
      " |  Built-in immutable sequence.\n",
      " |\n",
      " |  If no argument is given, the constructor returns an empty tuple.\n",
      " |  If iterable is specified the tuple is initialized from iterable's items.\n",
      " |\n",
      " |  If the argument is a tuple, the return value is the same object.\n",
      " |\n",
      " |  Built-in subclasses:\n",
      " |      asyncgen_hooks\n",
      " |      UnraisableHookArgs\n",
      " |\n",
      " |  Methods defined here:\n",
      " |\n",
      " |  __add__(self, value, /)\n",
      " |      Return self+value.\n",
      " |\n",
      " |  __contains__(self, key, /)\n",
      " |      Return bool(key in self).\n",
      " |\n",
      " |  __eq__(self, value, /)\n",
      " |      Return self==value.\n",
      " |\n",
      " |  __ge__(self, value, /)\n",
      " |      Return self>=value.\n",
      " |\n",
      " |  __getattribute__(self, name, /)\n",
      " |      Return getattr(self, name).\n",
      " |\n",
      " |  __getitem__(self, key, /)\n",
      " |      Return self[key].\n",
      " |\n",
      " |  __getnewargs__(self, /)\n",
      " |\n",
      " |  __gt__(self, value, /)\n",
      " |      Return self>value.\n",
      " |\n",
      " |  __hash__(self, /)\n",
      " |      Return hash(self).\n",
      " |\n",
      " |  __iter__(self, /)\n",
      " |      Implement iter(self).\n",
      " |\n",
      " |  __le__(self, value, /)\n",
      " |      Return self<=value.\n",
      " |\n",
      " |  __len__(self, /)\n",
      " |      Return len(self).\n",
      " |\n",
      " |  __lt__(self, value, /)\n",
      " |      Return self<value.\n",
      " |\n",
      " |  __mul__(self, value, /)\n",
      " |      Return self*value.\n",
      " |\n",
      " |  __ne__(self, value, /)\n",
      " |      Return self!=value.\n",
      " |\n",
      " |  __repr__(self, /)\n",
      " |      Return repr(self).\n",
      " |\n",
      " |  __rmul__(self, value, /)\n",
      " |      Return value*self.\n",
      " |\n",
      " |  count(self, value, /)\n",
      " |      Return number of occurrences of value.\n",
      " |\n",
      " |  index(self, value, start=0, stop=9223372036854775807, /)\n",
      " |      Return first index of value.\n",
      " |\n",
      " |      Raises ValueError if the value is not present.\n",
      " |\n",
      " |  ----------------------------------------------------------------------\n",
      " |  Class methods defined here:\n",
      " |\n",
      " |  __class_getitem__(object, /)\n",
      " |      See PEP 585\n",
      " |\n",
      " |  ----------------------------------------------------------------------\n",
      " |  Static methods defined here:\n",
      " |\n",
      " |  __new__(*args, **kwargs)\n",
      " |      Create and return a new object.  See help(type) for accurate signature.\n",
      "\n"
     ]
    }
   ],
   "source": [
    "help(List5)"
   ]
  },
  {
   "cell_type": "code",
   "execution_count": 159,
   "id": "22ea3555-df71-41d9-a20a-5017a591e84d",
   "metadata": {},
   "outputs": [],
   "source": [
    "List5 = list(List5)"
   ]
  },
  {
   "cell_type": "code",
   "execution_count": 161,
   "id": "b9d20a7b-d3d6-4d2e-a619-2257e31419cf",
   "metadata": {},
   "outputs": [
    {
     "name": "stdout",
     "output_type": "stream",
     "text": [
      "Help on list object:\n",
      "\n",
      "class list(object)\n",
      " |  list(iterable=(), /)\n",
      " |\n",
      " |  Built-in mutable sequence.\n",
      " |\n",
      " |  If no argument is given, the constructor creates a new empty list.\n",
      " |  The argument must be an iterable if specified.\n",
      " |\n",
      " |  Methods defined here:\n",
      " |\n",
      " |  __add__(self, value, /)\n",
      " |      Return self+value.\n",
      " |\n",
      " |  __contains__(self, key, /)\n",
      " |      Return bool(key in self).\n",
      " |\n",
      " |  __delitem__(self, key, /)\n",
      " |      Delete self[key].\n",
      " |\n",
      " |  __eq__(self, value, /)\n",
      " |      Return self==value.\n",
      " |\n",
      " |  __ge__(self, value, /)\n",
      " |      Return self>=value.\n",
      " |\n",
      " |  __getattribute__(self, name, /)\n",
      " |      Return getattr(self, name).\n",
      " |\n",
      " |  __getitem__(self, index, /)\n",
      " |      Return self[index].\n",
      " |\n",
      " |  __gt__(self, value, /)\n",
      " |      Return self>value.\n",
      " |\n",
      " |  __iadd__(self, value, /)\n",
      " |      Implement self+=value.\n",
      " |\n",
      " |  __imul__(self, value, /)\n",
      " |      Implement self*=value.\n",
      " |\n",
      " |  __init__(self, /, *args, **kwargs)\n",
      " |      Initialize self.  See help(type(self)) for accurate signature.\n",
      " |\n",
      " |  __iter__(self, /)\n",
      " |      Implement iter(self).\n",
      " |\n",
      " |  __le__(self, value, /)\n",
      " |      Return self<=value.\n",
      " |\n",
      " |  __len__(self, /)\n",
      " |      Return len(self).\n",
      " |\n",
      " |  __lt__(self, value, /)\n",
      " |      Return self<value.\n",
      " |\n",
      " |  __mul__(self, value, /)\n",
      " |      Return self*value.\n",
      " |\n",
      " |  __ne__(self, value, /)\n",
      " |      Return self!=value.\n",
      " |\n",
      " |  __repr__(self, /)\n",
      " |      Return repr(self).\n",
      " |\n",
      " |  __reversed__(self, /)\n",
      " |      Return a reverse iterator over the list.\n",
      " |\n",
      " |  __rmul__(self, value, /)\n",
      " |      Return value*self.\n",
      " |\n",
      " |  __setitem__(self, key, value, /)\n",
      " |      Set self[key] to value.\n",
      " |\n",
      " |  __sizeof__(self, /)\n",
      " |      Return the size of the list in memory, in bytes.\n",
      " |\n",
      " |  append(self, object, /)\n",
      " |      Append object to the end of the list.\n",
      " |\n",
      " |  clear(self, /)\n",
      " |      Remove all items from list.\n",
      " |\n",
      " |  copy(self, /)\n",
      " |      Return a shallow copy of the list.\n",
      " |\n",
      " |  count(self, value, /)\n",
      " |      Return number of occurrences of value.\n",
      " |\n",
      " |  extend(self, iterable, /)\n",
      " |      Extend list by appending elements from the iterable.\n",
      " |\n",
      " |  index(self, value, start=0, stop=9223372036854775807, /)\n",
      " |      Return first index of value.\n",
      " |\n",
      " |      Raises ValueError if the value is not present.\n",
      " |\n",
      " |  insert(self, index, object, /)\n",
      " |      Insert object before index.\n",
      " |\n",
      " |  pop(self, index=-1, /)\n",
      " |      Remove and return item at index (default last).\n",
      " |\n",
      " |      Raises IndexError if list is empty or index is out of range.\n",
      " |\n",
      " |  remove(self, value, /)\n",
      " |      Remove first occurrence of value.\n",
      " |\n",
      " |      Raises ValueError if the value is not present.\n",
      " |\n",
      " |  reverse(self, /)\n",
      " |      Reverse *IN PLACE*.\n",
      " |\n",
      " |  sort(self, /, *, key=None, reverse=False)\n",
      " |      Sort the list in ascending order and return None.\n",
      " |\n",
      " |      The sort is in-place (i.e. the list itself is modified) and stable (i.e. the\n",
      " |      order of two equal elements is maintained).\n",
      " |\n",
      " |      If a key function is given, apply it once to each list item and sort them,\n",
      " |      ascending or descending, according to their function values.\n",
      " |\n",
      " |      The reverse flag can be set to sort in descending order.\n",
      " |\n",
      " |  ----------------------------------------------------------------------\n",
      " |  Class methods defined here:\n",
      " |\n",
      " |  __class_getitem__(object, /)\n",
      " |      See PEP 585\n",
      " |\n",
      " |  ----------------------------------------------------------------------\n",
      " |  Static methods defined here:\n",
      " |\n",
      " |  __new__(*args, **kwargs)\n",
      " |      Create and return a new object.  See help(type) for accurate signature.\n",
      " |\n",
      " |  ----------------------------------------------------------------------\n",
      " |  Data and other attributes defined here:\n",
      " |\n",
      " |  __hash__ = None\n",
      "\n"
     ]
    }
   ],
   "source": [
    "help(List5)"
   ]
  },
  {
   "cell_type": "code",
   "execution_count": 168,
   "id": "71a424fa-108b-4ee4-b551-fedfc7eb42ad",
   "metadata": {},
   "outputs": [
    {
     "data": {
      "text/plain": [
       "'sonali'"
      ]
     },
     "execution_count": 168,
     "metadata": {},
     "output_type": "execute_result"
    }
   ],
   "source": [
    "List5.pop(3)"
   ]
  },
  {
   "cell_type": "code",
   "execution_count": 169,
   "id": "8f3c7455-858e-461d-b8e1-533e376278c6",
   "metadata": {},
   "outputs": [
    {
     "data": {
      "text/plain": [
       "['c', 1, 2, 'gaju']"
      ]
     },
     "execution_count": 169,
     "metadata": {},
     "output_type": "execute_result"
    }
   ],
   "source": [
    "List5"
   ]
  },
  {
   "cell_type": "code",
   "execution_count": 171,
   "id": "cff9e9a1-c807-43c1-bb1d-eaba5f9742d0",
   "metadata": {},
   "outputs": [],
   "source": [
    "#Dictionaries\n",
    "\n",
    "dict= {1:'sonali', 2:'gaju', 3:'manali', 4:'gaju'}"
   ]
  },
  {
   "cell_type": "code",
   "execution_count": 172,
   "id": "24062199-f7b1-43f8-9b60-69a5bd902811",
   "metadata": {},
   "outputs": [
    {
     "data": {
      "text/plain": [
       "{1: 'sonali', 2: 'gaju', 3: 'manali', 4: 'gaju'}"
      ]
     },
     "execution_count": 172,
     "metadata": {},
     "output_type": "execute_result"
    }
   ],
   "source": [
    "dict"
   ]
  },
  {
   "cell_type": "code",
   "execution_count": 173,
   "id": "7b4e50e4-43be-4184-ae2b-3fd253821a20",
   "metadata": {},
   "outputs": [
    {
     "data": {
      "text/plain": [
       "dict_values(['sonali', 'gaju', 'manali', 'gaju'])"
      ]
     },
     "execution_count": 173,
     "metadata": {},
     "output_type": "execute_result"
    }
   ],
   "source": [
    "dict.values()"
   ]
  },
  {
   "cell_type": "code",
   "execution_count": 174,
   "id": "5c836c61-e71a-432f-babf-a694513aa551",
   "metadata": {},
   "outputs": [
    {
     "data": {
      "text/plain": [
       "dict_keys([1, 2, 3, 4])"
      ]
     },
     "execution_count": 174,
     "metadata": {},
     "output_type": "execute_result"
    }
   ],
   "source": [
    "dict.keys()"
   ]
  },
  {
   "cell_type": "code",
   "execution_count": 175,
   "id": "e9342a0b-b43e-4334-bdb2-d0bc0f2e432b",
   "metadata": {},
   "outputs": [
    {
     "data": {
      "text/plain": [
       "4"
      ]
     },
     "execution_count": 175,
     "metadata": {},
     "output_type": "execute_result"
    }
   ],
   "source": [
    "len(dict)"
   ]
  },
  {
   "cell_type": "code",
   "execution_count": 176,
   "id": "ff0a053d-8a59-46b7-8f4e-b941d3720e83",
   "metadata": {},
   "outputs": [],
   "source": [
    "#sets"
   ]
  },
  {
   "cell_type": "code",
   "execution_count": 178,
   "id": "c15296f3-a8c1-4c72-baeb-3c1a967907a5",
   "metadata": {},
   "outputs": [],
   "source": [
    "set1= {1,2,3, 'a','b','c'}"
   ]
  },
  {
   "cell_type": "markdown",
   "id": "52ff7764-8a50-4eb4-a42d-a499bcd8c00d",
   "metadata": {},
   "source": [
    "set1"
   ]
  },
  {
   "cell_type": "code",
   "execution_count": 179,
   "id": "545203d3-1f0c-43ab-aa68-bee66c6fa566",
   "metadata": {},
   "outputs": [
    {
     "data": {
      "text/plain": [
       "{1, 2, 3, 'a', 'b', 'c'}"
      ]
     },
     "execution_count": 179,
     "metadata": {},
     "output_type": "execute_result"
    }
   ],
   "source": [
    "set1"
   ]
  },
  {
   "cell_type": "code",
   "execution_count": 180,
   "id": "3e42da66-be23-44d0-857e-5cc75bd10178",
   "metadata": {},
   "outputs": [],
   "source": [
    "set2 ={3,4,5,'c','d','e'}"
   ]
  },
  {
   "cell_type": "code",
   "execution_count": 181,
   "id": "e8c4a649-4cfd-4459-bd5c-ee30e20bdf83",
   "metadata": {},
   "outputs": [
    {
     "data": {
      "text/plain": [
       "{3, 4, 5, 'c', 'd', 'e'}"
      ]
     },
     "execution_count": 181,
     "metadata": {},
     "output_type": "execute_result"
    }
   ],
   "source": [
    "set2"
   ]
  },
  {
   "cell_type": "code",
   "execution_count": 182,
   "id": "12234e82-70b7-4f69-befb-13dd62f66024",
   "metadata": {},
   "outputs": [
    {
     "data": {
      "text/plain": [
       "{1, 2, 3, 4, 5, 'a', 'b', 'c', 'd', 'e'}"
      ]
     },
     "execution_count": 182,
     "metadata": {},
     "output_type": "execute_result"
    }
   ],
   "source": [
    "set1|set2"
   ]
  },
  {
   "cell_type": "code",
   "execution_count": 183,
   "id": "e4d9814b-c89a-4413-80ef-77037eff1ade",
   "metadata": {},
   "outputs": [
    {
     "data": {
      "text/plain": [
       "{3, 'c'}"
      ]
     },
     "execution_count": 183,
     "metadata": {},
     "output_type": "execute_result"
    }
   ],
   "source": [
    "set1&set2"
   ]
  },
  {
   "cell_type": "code",
   "execution_count": 184,
   "id": "d4be26d2-7327-46b4-a4f2-996755824826",
   "metadata": {},
   "outputs": [
    {
     "data": {
      "text/plain": [
       "{1, 2, 'a', 'b'}"
      ]
     },
     "execution_count": 184,
     "metadata": {},
     "output_type": "execute_result"
    }
   ],
   "source": [
    "set1-set2"
   ]
  },
  {
   "cell_type": "code",
   "execution_count": null,
   "id": "9d58a304-4591-48f0-b372-3a3a32ce7901",
   "metadata": {},
   "outputs": [],
   "source": []
  }
 ],
 "metadata": {
  "kernelspec": {
   "display_name": "Python 3 (ipykernel)",
   "language": "python",
   "name": "python3"
  },
  "language_info": {
   "codemirror_mode": {
    "name": "ipython",
    "version": 3
   },
   "file_extension": ".py",
   "mimetype": "text/x-python",
   "name": "python",
   "nbconvert_exporter": "python",
   "pygments_lexer": "ipython3",
   "version": "3.13.5"
  }
 },
 "nbformat": 4,
 "nbformat_minor": 5
}
