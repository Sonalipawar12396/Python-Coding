{
 "cells": [
  {
   "cell_type": "code",
   "execution_count": 1,
   "id": "30b14e89-6eb6-4408-901e-da61031e4ac9",
   "metadata": {},
   "outputs": [],
   "source": [
    "import datetime"
   ]
  },
  {
   "cell_type": "code",
   "execution_count": 2,
   "id": "872b3f33-756c-411f-bb59-b9d7b41ea68a",
   "metadata": {},
   "outputs": [],
   "source": [
    "date= datetime.date(2025, 7, 4)"
   ]
  },
  {
   "cell_type": "code",
   "execution_count": 3,
   "id": "8e7425a5-606b-41c4-8cdd-e6d7b043a448",
   "metadata": {},
   "outputs": [
    {
     "name": "stdout",
     "output_type": "stream",
     "text": [
      "2025-07-04\n"
     ]
    }
   ],
   "source": [
    "print(date)"
   ]
  },
  {
   "cell_type": "code",
   "execution_count": 4,
   "id": "5b08d8f4-a888-44a1-b49c-557261bc4d75",
   "metadata": {},
   "outputs": [],
   "source": [
    "#Library<---module<--functions"
   ]
  },
  {
   "cell_type": "code",
   "execution_count": 18,
   "id": "899ddc88-81a0-4910-979a-dc9c978ab0e1",
   "metadata": {},
   "outputs": [
    {
     "name": "stdout",
     "output_type": "stream",
     "text": [
      "2009-10-03\n"
     ]
    }
   ],
   "source": [
    "from datetime import date\n",
    "\n",
    "any_date= date.fromtimestamp(1254567882)\n",
    "print( any_date)"
   ]
  },
  {
   "cell_type": "code",
   "execution_count": 1,
   "id": "d34dc70f-5286-4609-8106-6aaea47b58d2",
   "metadata": {},
   "outputs": [
    {
     "name": "stdout",
     "output_type": "stream",
     "text": [
      "2025-07-15\n"
     ]
    }
   ],
   "source": [
    "from datetime import date\n",
    "current_date= date.today()\n",
    "print(current_date)"
   ]
  },
  {
   "cell_type": "code",
   "execution_count": 4,
   "id": "e059fb03-f036-4476-878a-2f076fbf12f0",
   "metadata": {},
   "outputs": [
    {
     "name": "stdout",
     "output_type": "stream",
     "text": [
      "2025\n",
      "15\n",
      "7\n",
      "2025-07-15\n"
     ]
    }
   ],
   "source": [
    "from datetime import date\n",
    "\n",
    "current= date.today()\n",
    "\n",
    "print(current.year)\n",
    "print(current.day)\n",
    "print(current.month)\n",
    "print(current)"
   ]
  },
  {
   "cell_type": "code",
   "execution_count": 5,
   "id": "3fa76126-2845-47ad-b9cc-fe2d34b6a92c",
   "metadata": {},
   "outputs": [],
   "source": [
    "#time"
   ]
  },
  {
   "cell_type": "code",
   "execution_count": 11,
   "id": "e4ab2606-4503-4040-9278-6329cea90f8d",
   "metadata": {},
   "outputs": [
    {
     "name": "stdout",
     "output_type": "stream",
     "text": [
      "00:00:00\n",
      "11:30:00\n",
      "15:05:00\n"
     ]
    }
   ],
   "source": [
    "from datetime import time\n",
    "\n",
    "a=time()\n",
    "print(a)\n",
    "\n",
    "b=time(11,30,0)\n",
    "print(b)\n",
    "\n",
    "c=time(15,5,0)\n",
    "print(c)"
   ]
  },
  {
   "cell_type": "code",
   "execution_count": 12,
   "id": "89cd4b14-5421-4015-9902-3bb4b1f6937a",
   "metadata": {},
   "outputs": [
    {
     "name": "stdout",
     "output_type": "stream",
     "text": [
      "2025-07-15 15:07:04.609297\n"
     ]
    }
   ],
   "source": [
    "from datetime import datetime\n",
    "\n",
    "print(datetime.now())"
   ]
  },
  {
   "cell_type": "code",
   "execution_count": 14,
   "id": "470420d8-d771-4be0-be73-e1c8a1230bfc",
   "metadata": {},
   "outputs": [
    {
     "name": "stdout",
     "output_type": "stream",
     "text": [
      "15:08:00\n",
      "15:08:00\n"
     ]
    }
   ],
   "source": [
    "from datetime import time\n",
    "\n",
    "c= time(hour=15, minute=8 , second= 0)\n",
    "d=time(15,8,0)\n",
    "print(c)\n",
    "print(d)"
   ]
  },
  {
   "cell_type": "code",
   "execution_count": 25,
   "id": "a357c674-aaaf-4397-8640-b392e318ee3f",
   "metadata": {},
   "outputs": [
    {
     "name": "stdout",
     "output_type": "stream",
     "text": [
      "29 days, 0:27:36.986301\n"
     ]
    }
   ],
   "source": [
    "from datetime import datetime, date\n",
    "\n",
    "date1=date(year=2025, month=3, day=12)\n",
    "date2=date(year=1996, month=3, day=12)\n",
    "x=date1-date2\n",
    "x=x/365\n",
    "print(x)"
   ]
  },
  {
   "cell_type": "code",
   "execution_count": 26,
   "id": "3b4b1abd-9f19-419c-bd60-78c0994e0eba",
   "metadata": {},
   "outputs": [
    {
     "name": "stdout",
     "output_type": "stream",
     "text": [
      "<class 'datetime.timedelta'>\n"
     ]
    }
   ],
   "source": [
    "type(x)\n",
    "print(type(x))"
   ]
  },
  {
   "cell_type": "code",
   "execution_count": 28,
   "id": "7b3b63fb-5cf1-4652-9e77-b5c5748987c0",
   "metadata": {},
   "outputs": [
    {
     "name": "stdout",
     "output_type": "stream",
     "text": [
      "396 days, 1:05:50\n"
     ]
    }
   ],
   "source": [
    "datetime1 = datetime(2025, 3, 12, 5, 16, 30)\n",
    "datetime2 = datetime(2024, 2, 10, 4, 10, 40)\n",
    "z = datetime1 - datetime2\n",
    "print(z)\n"
   ]
  },
  {
   "cell_type": "code",
   "execution_count": 30,
   "id": "98aeedb1-300b-4069-afb4-e8cd7962718b",
   "metadata": {},
   "outputs": [
    {
     "name": "stdout",
     "output_type": "stream",
     "text": [
      "34218350.0\n"
     ]
    }
   ],
   "source": [
    "print(z.total_seconds()) "
   ]
  },
  {
   "cell_type": "code",
   "execution_count": 31,
   "id": "67036441-6fc2-470e-875a-663ecb32b1f1",
   "metadata": {},
   "outputs": [],
   "source": [
    "ab=datetime.now()"
   ]
  },
  {
   "cell_type": "code",
   "execution_count": 32,
   "id": "98913c24-48b1-486d-8479-2f83e6c1edf2",
   "metadata": {},
   "outputs": [
    {
     "name": "stdout",
     "output_type": "stream",
     "text": [
      "2025-07-15 23:06:29.375805\n"
     ]
    }
   ],
   "source": [
    "print(ab)"
   ]
  },
  {
   "cell_type": "code",
   "execution_count": 43,
   "id": "d7263ec7-e8be-468a-a416-55c31abe4b14",
   "metadata": {},
   "outputs": [
    {
     "name": "stdout",
     "output_type": "stream",
     "text": [
      "2025\n",
      "07\n",
      "15\n"
     ]
    }
   ],
   "source": [
    "from datetime import datetime\n",
    "\n",
    "year= datetime.now()\n",
    "print(datetime.strftime(year ,\"%Y\"))\n",
    "\n",
    "print(datetime.strftime(year ,\"%m\"))\n",
    "print(datetime.strftime(year ,\"%d\"))"
   ]
  },
  {
   "cell_type": "code",
   "execution_count": 50,
   "id": "5667bb11-c2c6-4697-a4f6-18c0cfadfe6e",
   "metadata": {},
   "outputs": [
    {
     "name": "stdout",
     "output_type": "stream",
     "text": [
      "2025-07-15 23:13:41.336911\n"
     ]
    }
   ],
   "source": [
    "from datetime import datetime\n",
    "T= year.strftime(\"%H:%M:%S\")\n",
    "print(year)"
   ]
  },
  {
   "cell_type": "code",
   "execution_count": 52,
   "id": "25a4e38c-3dbe-4772-b882-f2a4353394b1",
   "metadata": {},
   "outputs": [],
   "source": [
    "fh = open('abc1234.txt', 'w')\n",
    "fh.writelines(\"This is line no. 1\")\n",
    "fh.writelines(\"\\n\")\n",
    "fh.writelines(\"This is line no. 2\")\n",
    "fh.close()"
   ]
  },
  {
   "cell_type": "code",
   "execution_count": 53,
   "id": "44fc3a12-6439-4066-b758-c2fb11edacb4",
   "metadata": {},
   "outputs": [],
   "source": [
    "fh = open('abc1234.excel', 'w')\n",
    "fh.writelines(\"This is line no. 1\")\n",
    "fh.writelines(\"\\n\")\n",
    "fh.writelines(\"This is line no. 2\")\n",
    "fh.close()"
   ]
  },
  {
   "cell_type": "code",
   "execution_count": 55,
   "id": "415a3902-f087-4b41-bac0-16f7e2cf3fba",
   "metadata": {},
   "outputs": [
    {
     "ename": "SyntaxError",
     "evalue": "invalid syntax (3398261699.py, line 1)",
     "output_type": "error",
     "traceback": [
      "\u001b[1;36m  Cell \u001b[1;32mIn[55], line 1\u001b[1;36m\u001b[0m\n\u001b[1;33m    pip install xlsxwriter\u001b[0m\n\u001b[1;37m        ^\u001b[0m\n\u001b[1;31mSyntaxError\u001b[0m\u001b[1;31m:\u001b[0m invalid syntax\n"
     ]
    }
   ],
   "source": [
    "pip install xlsxwriter\n",
    "import xlsxwriter\n",
    "\n",
    "# Create workbook and worksheet\n",
    "workbook = xlsxwriter.Workbook('abc1234.xlsx')\n",
    "worksheet = workbook.add_worksheet()\n",
    "\n",
    "# Write data\n",
    "worksheet.write('A1', 'This is line no. 1')\n",
    "worksheet.write('A2', 'This is line no. 2')\n",
    "\n",
    "# Close the workbook\n",
    "workbook.close()"
   ]
  },
  {
   "cell_type": "code",
   "execution_count": 58,
   "id": "290c2871-48ba-430c-890a-7feac278dc1a",
   "metadata": {},
   "outputs": [],
   "source": [
    "from openpyxl import Workbook\n",
    "\n",
    "# Create workbook and worksheet\n",
    "x = Workbook()\n",
    "y = x.active\n",
    "\n",
    "# Write data\n",
    "y['A1'] = \"This is line no. 1\"\n",
    "y['A5'] = \"This is line no. 2\"\n",
    "\n",
    "# Save the file\n",
    "x.save('project1.xlsx')"
   ]
  },
  {
   "cell_type": "code",
   "execution_count": null,
   "id": "2373a1d7-a4b8-4058-a094-a2d4b7a09d83",
   "metadata": {},
   "outputs": [],
   "source": []
  },
  {
   "cell_type": "code",
   "execution_count": null,
   "id": "063fdfba-13c8-48bd-8ff1-885b4248aaa3",
   "metadata": {},
   "outputs": [],
   "source": []
  }
 ],
 "metadata": {
  "kernelspec": {
   "display_name": "Python 3 (ipykernel)",
   "language": "python",
   "name": "python3"
  },
  "language_info": {
   "codemirror_mode": {
    "name": "ipython",
    "version": 3
   },
   "file_extension": ".py",
   "mimetype": "text/x-python",
   "name": "python",
   "nbconvert_exporter": "python",
   "pygments_lexer": "ipython3",
   "version": "3.13.5"
  }
 },
 "nbformat": 4,
 "nbformat_minor": 5
}
