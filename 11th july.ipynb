{
 "cells": [
  {
   "cell_type": "code",
   "execution_count": 2,
   "id": "bc1623e8-7afd-4217-9d77-3fdb63a532ac",
   "metadata": {},
   "outputs": [
    {
     "name": "stdout",
     "output_type": "stream",
     "text": [
      "enter the number for sum\n",
      "put 0 for exit\n",
      "the sum is 0\n"
     ]
    },
    {
     "name": "stdin",
     "output_type": "stream",
     "text": [
      "enter number 10\n"
     ]
    },
    {
     "name": "stdout",
     "output_type": "stream",
     "text": [
      "the sum is 10.0\n"
     ]
    },
    {
     "name": "stdin",
     "output_type": "stream",
     "text": [
      "enter number 11\n"
     ]
    },
    {
     "name": "stdout",
     "output_type": "stream",
     "text": [
      "the sum is 21.0\n"
     ]
    },
    {
     "name": "stdin",
     "output_type": "stream",
     "text": [
      "enter number 99\n"
     ]
    },
    {
     "name": "stdout",
     "output_type": "stream",
     "text": [
      "the sum is 120.0\n"
     ]
    },
    {
     "name": "stdin",
     "output_type": "stream",
     "text": [
      "enter number 3787989\n"
     ]
    },
    {
     "name": "stdout",
     "output_type": "stream",
     "text": [
      "the sum is 3788109.0\n"
     ]
    },
    {
     "name": "stdin",
     "output_type": "stream",
     "text": [
      "enter number 6554\n"
     ]
    },
    {
     "name": "stdout",
     "output_type": "stream",
     "text": [
      "the sum is 3794663.0\n"
     ]
    },
    {
     "name": "stdin",
     "output_type": "stream",
     "text": [
      "enter number 09891736362\n"
     ]
    },
    {
     "name": "stdout",
     "output_type": "stream",
     "text": [
      "the sum is 9895531025.0\n"
     ]
    },
    {
     "name": "stdin",
     "output_type": "stream",
     "text": [
      "enter number 2357327389\n"
     ]
    },
    {
     "name": "stdout",
     "output_type": "stream",
     "text": [
      "the sum is 12252858414.0\n"
     ]
    },
    {
     "name": "stdin",
     "output_type": "stream",
     "text": [
      "enter number 0\n"
     ]
    },
    {
     "name": "stdout",
     "output_type": "stream",
     "text": [
      "total sum is 12252858414.0\n"
     ]
    }
   ],
   "source": [
    "a=1\n",
    "s=0\n",
    "\n",
    "print(\"enter the number for sum\")\n",
    "print(\"put 0 for exit\")\n",
    "\n",
    "while a!=0:\n",
    "    print(\"the sum is\", s)\n",
    "    a= float(input(\"enter number\"))\n",
    "    s=s+a\n",
    "print(\"total sum is\", s)"
   ]
  },
  {
   "cell_type": "code",
   "execution_count": 3,
   "id": "2f7cefeb-8b82-47c4-854f-710ab365b650",
   "metadata": {},
   "outputs": [],
   "source": [
    "import random"
   ]
  },
  {
   "cell_type": "code",
   "execution_count": null,
   "id": "bc7e0472-315e-4658-b226-2f9f921517b5",
   "metadata": {},
   "outputs": [],
   "source": [
    "import random\n",
    "target=random.randint(1,10)\n",
    "guess=0\n",
    "while target!=guess:\n",
    "    guess=int(input(\"not the right number guess again:\"))\n",
    "print(\"corect guess\")    \n"
   ]
  },
  {
   "cell_type": "code",
   "execution_count": 7,
   "id": "7f751f12-e9f1-4987-b1a5-a7a4f1b382ce",
   "metadata": {},
   "outputs": [
    {
     "name": "stdin",
     "output_type": "stream",
     "text": [
      "not the right number guess again: 6\n",
      "not the right number guess again: 3\n",
      "not the right number guess again: 1\n",
      "not the right number guess again: 2\n",
      "not the right number guess again: 4\n",
      "not the right number guess again: 5\n"
     ]
    },
    {
     "name": "stdout",
     "output_type": "stream",
     "text": [
      "correct guess\n"
     ]
    }
   ],
   "source": [
    "import random\n",
    "target=random.randint(1,6)\n",
    "guess=0\n",
    "while target!=guess:\n",
    "    guess=int(input(\"not the right number guess again:\"))\n",
    "print(\"correct guess\")    "
   ]
  },
  {
   "cell_type": "code",
   "execution_count": null,
   "id": "03829237-ece3-490c-8927-3c9d7d903b95",
   "metadata": {},
   "outputs": [],
   "source": [
    "#for"
   ]
  },
  {
   "cell_type": "code",
   "execution_count": 10,
   "id": "09ce2b36-6643-4156-b28b-17ddf63c6af3",
   "metadata": {},
   "outputs": [
    {
     "name": "stdout",
     "output_type": "stream",
     "text": [
      "0\n",
      "1\n",
      "2\n",
      "3\n",
      "4\n",
      "5\n",
      "6\n",
      "7\n",
      "8\n",
      "9\n"
     ]
    }
   ],
   "source": [
    "for variable in range(0,10):\n",
    "    print (variable)"
   ]
  },
  {
   "cell_type": "code",
   "execution_count": 11,
   "id": "05cdfe94-3a24-4642-9b32-0ee0ad6b1081",
   "metadata": {},
   "outputs": [],
   "source": [
    "#list example"
   ]
  },
  {
   "cell_type": "code",
   "execution_count": 19,
   "id": "cddb5f24-57f4-449d-bd86-f705d12a9130",
   "metadata": {},
   "outputs": [
    {
     "name": "stdout",
     "output_type": "stream",
     "text": [
      "[4, 6, 8, 10, 12]\n"
     ]
    }
   ],
   "source": [
    "list=[2,4,6,8,10]\n",
    "for x in range(0,len(list)):\n",
    "  list[x]=list[x]+2\n",
    "print(list)"
   ]
  },
  {
   "cell_type": "code",
   "execution_count": 25,
   "id": "cfc8956d-9aeb-408e-b0a1-8bf5fca2d5c4",
   "metadata": {},
   "outputs": [
    {
     "name": "stdout",
     "output_type": "stream",
     "text": [
      "[500, 840, 14500, 7500]\n"
     ]
    }
   ],
   "source": [
    "Saree_Price=[1000,1340,15000,8000]\n",
    "for index in range(0,len(Saree_Price)):\n",
    "    Saree_Price[index]= Saree_Price[index]-500\n",
    "\n",
    "print(Saree_Price)"
   ]
  },
  {
   "cell_type": "code",
   "execution_count": 26,
   "id": "e09ffaa6-cec6-494e-8c21-5654306a7016",
   "metadata": {},
   "outputs": [],
   "source": [
    "#for loop and if loop"
   ]
  },
  {
   "cell_type": "code",
   "execution_count": 35,
   "id": "58ce6e67-588e-43c5-88c6-08111c8d0aad",
   "metadata": {},
   "outputs": [
    {
     "name": "stdout",
     "output_type": "stream",
     "text": [
      "dress\n",
      "saree\n",
      "gown\n",
      "incorrect item\n",
      "pant\n",
      "incorrect item\n"
     ]
    }
   ],
   "source": [
    "list2=[\"dress\",\"saree\",\"gown\",\"toy\",\"pant\",\"toy\"]\n",
    "for index in list2:\n",
    "    if (index==\"toy\"):\n",
    "     print(\"incorrect item\")\n",
    "    else:\n",
    "     print(index)"
   ]
  },
  {
   "cell_type": "code",
   "execution_count": 34,
   "id": "ac5a4bb3-ed7f-46c5-88ba-202a6765003d",
   "metadata": {},
   "outputs": [
    {
     "name": "stdout",
     "output_type": "stream",
     "text": [
      "dress\n",
      "saree\n",
      "gown\n",
      "incorrect item\n",
      "pant\n",
      "incorrect item\n"
     ]
    }
   ],
   "source": [
    "list2=[\"dress\",\"saree\",\"gown\",\"toy\",\"pant\",\"toy\"]\n",
    "for index in list2:\n",
    "    if index not in [\"dress\", \"saree\", \"gown\", \"pant\"]:\n",
    "        print(\"incorrect item\")\n",
    "    else:\n",
    "        print(index)"
   ]
  },
  {
   "cell_type": "code",
   "execution_count": 36,
   "id": "5095bf43-3bec-45d9-8e88-622b8410ed36",
   "metadata": {},
   "outputs": [],
   "source": [
    "#summation"
   ]
  },
  {
   "cell_type": "code",
   "execution_count": 40,
   "id": "3bd02a48-62d1-448c-a3cd-c24b27eb3ccf",
   "metadata": {},
   "outputs": [
    {
     "name": "stdout",
     "output_type": "stream",
     "text": [
      "5\n"
     ]
    }
   ],
   "source": [
    "sum=0\n",
    "for index in range (0,5):\n",
    "    sum=sum+1\n",
    "print(sum)"
   ]
  },
  {
   "cell_type": "code",
   "execution_count": null,
   "id": "ff4eb6c2-f4ed-4a9d-b2ab-5eb987a7a814",
   "metadata": {},
   "outputs": [],
   "source": []
  }
 ],
 "metadata": {
  "kernelspec": {
   "display_name": "Python 3 (ipykernel)",
   "language": "python",
   "name": "python3"
  },
  "language_info": {
   "codemirror_mode": {
    "name": "ipython",
    "version": 3
   },
   "file_extension": ".py",
   "mimetype": "text/x-python",
   "name": "python",
   "nbconvert_exporter": "python",
   "pygments_lexer": "ipython3",
   "version": "3.13.5"
  }
 },
 "nbformat": 4,
 "nbformat_minor": 5
}
