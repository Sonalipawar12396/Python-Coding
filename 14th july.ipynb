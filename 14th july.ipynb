{
 "cells": [
  {
   "cell_type": "code",
   "execution_count": 1,
   "id": "30b14e89-6eb6-4408-901e-da61031e4ac9",
   "metadata": {},
   "outputs": [],
   "source": [
    "import datetime"
   ]
  },
  {
   "cell_type": "code",
   "execution_count": 2,
   "id": "872b3f33-756c-411f-bb59-b9d7b41ea68a",
   "metadata": {},
   "outputs": [],
   "source": [
    "date= datetime.date(2025, 7, 4)"
   ]
  },
  {
   "cell_type": "code",
   "execution_count": 3,
   "id": "8e7425a5-606b-41c4-8cdd-e6d7b043a448",
   "metadata": {},
   "outputs": [
    {
     "name": "stdout",
     "output_type": "stream",
     "text": [
      "2025-07-04\n"
     ]
    }
   ],
   "source": [
    "print(date)"
   ]
  },
  {
   "cell_type": "code",
   "execution_count": 4,
   "id": "5b08d8f4-a888-44a1-b49c-557261bc4d75",
   "metadata": {},
   "outputs": [],
   "source": [
    "#Library<---module<--functions"
   ]
  },
  {
   "cell_type": "code",
   "execution_count": 18,
   "id": "899ddc88-81a0-4910-979a-dc9c978ab0e1",
   "metadata": {},
   "outputs": [
    {
     "name": "stdout",
     "output_type": "stream",
     "text": [
      "2009-10-03\n"
     ]
    }
   ],
   "source": [
    "from datetime import date\n",
    "\n",
    "any_date= date.fromtimestamp(1254567882)\n",
    "print( any_date)"
   ]
  },
  {
   "cell_type": "code",
   "execution_count": 1,
   "id": "d34dc70f-5286-4609-8106-6aaea47b58d2",
   "metadata": {},
   "outputs": [
    {
     "name": "stdout",
     "output_type": "stream",
     "text": [
      "2025-07-15\n"
     ]
    }
   ],
   "source": [
    "from datetime import date\n",
    "current_date= date.today()\n",
    "print(current_date)"
   ]
  },
  {
   "cell_type": "code",
   "execution_count": 4,
   "id": "e059fb03-f036-4476-878a-2f076fbf12f0",
   "metadata": {},
   "outputs": [
    {
     "name": "stdout",
     "output_type": "stream",
     "text": [
      "2025\n",
      "15\n",
      "7\n",
      "2025-07-15\n"
     ]
    }
   ],
   "source": [
    "from datetime import date\n",
    "\n",
    "current= date.today()\n",
    "\n",
    "print(current.year)\n",
    "print(current.day)\n",
    "print(current.month)\n",
    "print(current)"
   ]
  },
  {
   "cell_type": "code",
   "execution_count": null,
   "id": "3fa76126-2845-47ad-b9cc-fe2d34b6a92c",
   "metadata": {},
   "outputs": [],
   "source": []
  }
 ],
 "metadata": {
  "kernelspec": {
   "display_name": "Python 3 (ipykernel)",
   "language": "python",
   "name": "python3"
  },
  "language_info": {
   "codemirror_mode": {
    "name": "ipython",
    "version": 3
   },
   "file_extension": ".py",
   "mimetype": "text/x-python",
   "name": "python",
   "nbconvert_exporter": "python",
   "pygments_lexer": "ipython3",
   "version": "3.13.5"
  }
 },
 "nbformat": 4,
 "nbformat_minor": 5
}
