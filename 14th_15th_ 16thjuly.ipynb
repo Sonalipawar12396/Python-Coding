{
 "cells": [
  {
   "cell_type": "code",
   "execution_count": 1,
   "id": "30b14e89-6eb6-4408-901e-da61031e4ac9",
   "metadata": {},
   "outputs": [],
   "source": [
    "import datetime"
   ]
  },
  {
   "cell_type": "code",
   "execution_count": 2,
   "id": "872b3f33-756c-411f-bb59-b9d7b41ea68a",
   "metadata": {},
   "outputs": [],
   "source": [
    "date= datetime.date(2025, 7, 4)"
   ]
  },
  {
   "cell_type": "code",
   "execution_count": 3,
   "id": "8e7425a5-606b-41c4-8cdd-e6d7b043a448",
   "metadata": {},
   "outputs": [
    {
     "name": "stdout",
     "output_type": "stream",
     "text": [
      "2025-07-04\n"
     ]
    }
   ],
   "source": [
    "print(date)"
   ]
  },
  {
   "cell_type": "code",
   "execution_count": 4,
   "id": "5b08d8f4-a888-44a1-b49c-557261bc4d75",
   "metadata": {},
   "outputs": [],
   "source": [
    "#Library<---module<--functions"
   ]
  },
  {
   "cell_type": "code",
   "execution_count": 18,
   "id": "899ddc88-81a0-4910-979a-dc9c978ab0e1",
   "metadata": {},
   "outputs": [
    {
     "name": "stdout",
     "output_type": "stream",
     "text": [
      "2009-10-03\n"
     ]
    }
   ],
   "source": [
    "from datetime import date\n",
    "\n",
    "any_date= date.fromtimestamp(1254567882)\n",
    "print( any_date)"
   ]
  },
  {
   "cell_type": "code",
   "execution_count": 1,
   "id": "d34dc70f-5286-4609-8106-6aaea47b58d2",
   "metadata": {},
   "outputs": [
    {
     "name": "stdout",
     "output_type": "stream",
     "text": [
      "2025-07-15\n"
     ]
    }
   ],
   "source": [
    "from datetime import date\n",
    "current_date= date.today()\n",
    "print(current_date)"
   ]
  },
  {
   "cell_type": "code",
   "execution_count": 4,
   "id": "e059fb03-f036-4476-878a-2f076fbf12f0",
   "metadata": {},
   "outputs": [
    {
     "name": "stdout",
     "output_type": "stream",
     "text": [
      "2025\n",
      "15\n",
      "7\n",
      "2025-07-15\n"
     ]
    }
   ],
   "source": [
    "from datetime import date\n",
    "\n",
    "current= date.today()\n",
    "\n",
    "print(current.year)\n",
    "print(current.day)\n",
    "print(current.month)\n",
    "print(current)"
   ]
  },
  {
   "cell_type": "code",
   "execution_count": 5,
   "id": "3fa76126-2845-47ad-b9cc-fe2d34b6a92c",
   "metadata": {},
   "outputs": [],
   "source": [
    "#time"
   ]
  },
  {
   "cell_type": "code",
   "execution_count": 11,
   "id": "e4ab2606-4503-4040-9278-6329cea90f8d",
   "metadata": {},
   "outputs": [
    {
     "name": "stdout",
     "output_type": "stream",
     "text": [
      "00:00:00\n",
      "11:30:00\n",
      "15:05:00\n"
     ]
    }
   ],
   "source": [
    "from datetime import time\n",
    "\n",
    "a=time()\n",
    "print(a)\n",
    "\n",
    "b=time(11,30,0)\n",
    "print(b)\n",
    "\n",
    "c=time(15,5,0)\n",
    "print(c)"
   ]
  },
  {
   "cell_type": "code",
   "execution_count": 12,
   "id": "89cd4b14-5421-4015-9902-3bb4b1f6937a",
   "metadata": {},
   "outputs": [
    {
     "name": "stdout",
     "output_type": "stream",
     "text": [
      "2025-07-15 15:07:04.609297\n"
     ]
    }
   ],
   "source": [
    "from datetime import datetime\n",
    "\n",
    "print(datetime.now())"
   ]
  },
  {
   "cell_type": "code",
   "execution_count": 14,
   "id": "470420d8-d771-4be0-be73-e1c8a1230bfc",
   "metadata": {},
   "outputs": [
    {
     "name": "stdout",
     "output_type": "stream",
     "text": [
      "15:08:00\n",
      "15:08:00\n"
     ]
    }
   ],
   "source": [
    "from datetime import time\n",
    "\n",
    "c= time(hour=15, minute=8 , second= 0)\n",
    "d=time(15,8,0)\n",
    "print(c)\n",
    "print(d)"
   ]
  },
  {
   "cell_type": "code",
   "execution_count": 25,
   "id": "a357c674-aaaf-4397-8640-b392e318ee3f",
   "metadata": {},
   "outputs": [
    {
     "name": "stdout",
     "output_type": "stream",
     "text": [
      "29 days, 0:27:36.986301\n"
     ]
    }
   ],
   "source": [
    "from datetime import datetime, date\n",
    "\n",
    "date1=date(year=2025, month=3, day=12)\n",
    "date2=date(year=1996, month=3, day=12)\n",
    "x=date1-date2\n",
    "x=x/365\n",
    "print(x)"
   ]
  },
  {
   "cell_type": "code",
   "execution_count": 26,
   "id": "3b4b1abd-9f19-419c-bd60-78c0994e0eba",
   "metadata": {},
   "outputs": [
    {
     "name": "stdout",
     "output_type": "stream",
     "text": [
      "<class 'datetime.timedelta'>\n"
     ]
    }
   ],
   "source": [
    "type(x)\n",
    "print(type(x))"
   ]
  },
  {
   "cell_type": "code",
   "execution_count": 28,
   "id": "7b3b63fb-5cf1-4652-9e77-b5c5748987c0",
   "metadata": {},
   "outputs": [
    {
     "name": "stdout",
     "output_type": "stream",
     "text": [
      "396 days, 1:05:50\n"
     ]
    }
   ],
   "source": [
    "datetime1 = datetime(2025, 3, 12, 5, 16, 30)\n",
    "datetime2 = datetime(2024, 2, 10, 4, 10, 40)\n",
    "z = datetime1 - datetime2\n",
    "print(z)\n"
   ]
  },
  {
   "cell_type": "code",
   "execution_count": 30,
   "id": "98aeedb1-300b-4069-afb4-e8cd7962718b",
   "metadata": {},
   "outputs": [
    {
     "name": "stdout",
     "output_type": "stream",
     "text": [
      "34218350.0\n"
     ]
    }
   ],
   "source": [
    "print(z.total_seconds()) "
   ]
  },
  {
   "cell_type": "code",
   "execution_count": 31,
   "id": "67036441-6fc2-470e-875a-663ecb32b1f1",
   "metadata": {},
   "outputs": [],
   "source": [
    "ab=datetime.now()"
   ]
  },
  {
   "cell_type": "code",
   "execution_count": 32,
   "id": "98913c24-48b1-486d-8479-2f83e6c1edf2",
   "metadata": {},
   "outputs": [
    {
     "name": "stdout",
     "output_type": "stream",
     "text": [
      "2025-07-15 23:06:29.375805\n"
     ]
    }
   ],
   "source": [
    "print(ab)"
   ]
  },
  {
   "cell_type": "code",
   "execution_count": 43,
   "id": "d7263ec7-e8be-468a-a416-55c31abe4b14",
   "metadata": {},
   "outputs": [
    {
     "name": "stdout",
     "output_type": "stream",
     "text": [
      "2025\n",
      "07\n",
      "15\n"
     ]
    }
   ],
   "source": [
    "from datetime import datetime\n",
    "\n",
    "year= datetime.now()\n",
    "print(datetime.strftime(year ,\"%Y\"))\n",
    "\n",
    "print(datetime.strftime(year ,\"%m\"))\n",
    "print(datetime.strftime(year ,\"%d\"))"
   ]
  },
  {
   "cell_type": "code",
   "execution_count": 50,
   "id": "5667bb11-c2c6-4697-a4f6-18c0cfadfe6e",
   "metadata": {},
   "outputs": [
    {
     "name": "stdout",
     "output_type": "stream",
     "text": [
      "2025-07-15 23:13:41.336911\n"
     ]
    }
   ],
   "source": [
    "from datetime import datetime\n",
    "T= year.strftime(\"%H:%M:%S\")\n",
    "print(year)"
   ]
  },
  {
   "cell_type": "code",
   "execution_count": 52,
   "id": "25a4e38c-3dbe-4772-b882-f2a4353394b1",
   "metadata": {},
   "outputs": [],
   "source": [
    "fh = open('abc1234.txt', 'w')\n",
    "fh.writelines(\"This is line no. 1\")\n",
    "fh.writelines(\"\\n\")\n",
    "fh.writelines(\"This is line no. 2\")\n",
    "fh.close()"
   ]
  },
  {
   "cell_type": "code",
   "execution_count": 53,
   "id": "44fc3a12-6439-4066-b758-c2fb11edacb4",
   "metadata": {},
   "outputs": [],
   "source": [
    "fh = open('abc1234.excel', 'w')\n",
    "fh.writelines(\"This is line no. 1\")\n",
    "fh.writelines(\"\\n\")\n",
    "fh.writelines(\"This is line no. 2\")\n",
    "fh.close()"
   ]
  },
  {
   "cell_type": "code",
   "execution_count": 55,
   "id": "415a3902-f087-4b41-bac0-16f7e2cf3fba",
   "metadata": {},
   "outputs": [
    {
     "ename": "SyntaxError",
     "evalue": "invalid syntax (3398261699.py, line 1)",
     "output_type": "error",
     "traceback": [
      "\u001b[1;36m  Cell \u001b[1;32mIn[55], line 1\u001b[1;36m\u001b[0m\n\u001b[1;33m    pip install xlsxwriter\u001b[0m\n\u001b[1;37m        ^\u001b[0m\n\u001b[1;31mSyntaxError\u001b[0m\u001b[1;31m:\u001b[0m invalid syntax\n"
     ]
    }
   ],
   "source": [
    "pip install xlsxwriter\n",
    "import xlsxwriter\n",
    "\n",
    "# Create workbook and worksheet\n",
    "workbook = xlsxwriter.Workbook('abc1234.xlsx')\n",
    "worksheet = workbook.add_worksheet()\n",
    "\n",
    "# Write data\n",
    "worksheet.write('A1', 'This is line no. 1')\n",
    "worksheet.write('A2', 'This is line no. 2')\n",
    "\n",
    "# Close the workbook\n",
    "workbook.close()"
   ]
  },
  {
   "cell_type": "code",
   "execution_count": 58,
   "id": "290c2871-48ba-430c-890a-7feac278dc1a",
   "metadata": {},
   "outputs": [],
   "source": [
    "from openpyxl import Workbook\n",
    "\n",
    "# Create workbook and worksheet\n",
    "x = Workbook()\n",
    "y = x.active\n",
    "\n",
    "# Write data\n",
    "y['A1'] = \"This is line no. 1\"\n",
    "y['A5'] = \"This is line no. 2\"\n",
    "\n",
    "# Save the file\n",
    "x.save('project1.xlsx')"
   ]
  },
  {
   "cell_type": "code",
   "execution_count": 59,
   "id": "2373a1d7-a4b8-4058-a094-a2d4b7a09d83",
   "metadata": {},
   "outputs": [
    {
     "name": "stdout",
     "output_type": "stream",
     "text": [
      "This is line no. 1\n",
      "This is line no. 2\n"
     ]
    }
   ],
   "source": [
    "fh = open('abc1234.excel', 'r')\n",
    "print(fh.read())\n",
    "fh.close()"
   ]
  },
  {
   "cell_type": "code",
   "execution_count": 60,
   "id": "063fdfba-13c8-48bd-8ff1-885b4248aaa3",
   "metadata": {},
   "outputs": [
    {
     "ename": "AttributeError",
     "evalue": "'Workbook' object has no attribute 'read'",
     "output_type": "error",
     "traceback": [
      "\u001b[1;31m---------------------------------------------------------------------------\u001b[0m",
      "\u001b[1;31mAttributeError\u001b[0m                            Traceback (most recent call last)",
      "Cell \u001b[1;32mIn[60], line 1\u001b[0m\n\u001b[1;32m----> 1\u001b[0m x\u001b[38;5;241m.\u001b[39mread(\u001b[38;5;124m'\u001b[39m\u001b[38;5;124mproject1.xlsx\u001b[39m\u001b[38;5;124m'\u001b[39m)\n",
      "\u001b[1;31mAttributeError\u001b[0m: 'Workbook' object has no attribute 'read'"
     ]
    }
   ],
   "source": [
    "x.read('project1.xlsx')\n"
   ]
  },
  {
   "cell_type": "code",
   "execution_count": 61,
   "id": "832ff093-d34f-44d9-b863-5220ce4e1f02",
   "metadata": {},
   "outputs": [
    {
     "name": "stdout",
     "output_type": "stream",
     "text": [
      "This is line no. 1\n",
      "This is line no. 2\n"
     ]
    }
   ],
   "source": [
    "from openpyxl import load_workbook\n",
    "\n",
    "# Load existing file\n",
    "workbook = load_workbook('project1.xlsx')\n",
    "worksheet = workbook.active\n",
    "\n",
    "# Read data\n",
    "value1 = worksheet['A1'].value\n",
    "value5 = worksheet['A5'].value\n",
    "print(value1)  # Output: This is line no. 1\n",
    "print(value5)  # Output: This is line no. 2"
   ]
  },
  {
   "cell_type": "code",
   "execution_count": 62,
   "id": "19798f99-95e9-48ef-b02d-e7ee9269816e",
   "metadata": {},
   "outputs": [
    {
     "name": "stdout",
     "output_type": "stream",
     "text": [
      "Collecting bs4Note: you may need to restart the kernel to use updated packages.\n",
      "\n",
      "  Using cached bs4-0.0.2-py2.py3-none-any.whl.metadata (411 bytes)\n",
      "Requirement already satisfied: beautifulsoup4 in c:\\users\\sonali\\anaconda3\\lib\\site-packages (from bs4) (4.12.3)\n",
      "Requirement already satisfied: soupsieve>1.2 in c:\\users\\sonali\\anaconda3\\lib\\site-packages (from beautifulsoup4->bs4) (2.5)\n",
      "Using cached bs4-0.0.2-py2.py3-none-any.whl (1.2 kB)\n",
      "Installing collected packages: bs4\n",
      "Successfully installed bs4-0.0.2\n"
     ]
    }
   ],
   "source": [
    "pip install bs4"
   ]
  },
  {
   "cell_type": "code",
   "execution_count": 63,
   "id": "bbd5f4e3-8c7a-4a46-a281-6f56aac3a011",
   "metadata": {},
   "outputs": [
    {
     "name": "stdout",
     "output_type": "stream",
     "text": [
      "Requirement already satisfied: lxml in c:\\users\\sonali\\anaconda3\\lib\\site-packages (5.3.0)\n",
      "Note: you may need to restart the kernel to use updated packages.\n"
     ]
    }
   ],
   "source": [
    "pip install lxml"
   ]
  },
  {
   "cell_type": "code",
   "execution_count": 74,
   "id": "6611d4b5-e209-4532-9b38-e50cd31769e6",
   "metadata": {},
   "outputs": [
    {
     "name": "stdout",
     "output_type": "stream",
     "text": [
      "<title>Sonalipawar12396 (SONALI) · GitHub</title>\n"
     ]
    }
   ],
   "source": [
    "import bs4 as bs\n",
    "import urllib.request\n",
    "\n",
    "x= urllib.request.urlopen('https://github.com/Sonalipawar12396').read()\n",
    "y= bs.BeautifulSoup(x, 'lxml')\n",
    "print(y.title)"
   ]
  },
  {
   "cell_type": "code",
   "execution_count": 70,
   "id": "e10f598f-a4fd-4e84-a2eb-53e70302698a",
   "metadata": {},
   "outputs": [
    {
     "name": "stdout",
     "output_type": "stream",
     "text": [
      "<title>Sonalipawar12396 (SONALI) · GitHub</title>\n"
     ]
    }
   ],
   "source": [
    "import bs4 as bs\n",
    "import urllib.request\n",
    "\n",
    "x = urllib.request.urlopen('https://github.com/Sonalipawar12396').read()\n",
    "y = bs.BeautifulSoup(x, 'lxml')\n",
    "print(y.title)"
   ]
  },
  {
   "cell_type": "code",
   "execution_count": 75,
   "id": "6d95d1fb-dc3f-41fa-8642-476fa555c220",
   "metadata": {},
   "outputs": [
    {
     "name": "stdout",
     "output_type": "stream",
     "text": [
      "\n",
      "=== SAMPLE TAJ HOTEL REVIEWS ===\n",
      "\n",
      "Review 1: Excellent service and beautiful rooms! The staff was incredibly helpful and the location is perfect.\n",
      "--------------------------------------------------\n",
      "Review 2: Amazing experience at Taj Hotel. The food was outstanding and the ambiance was perfect for our anniversary.\n",
      "--------------------------------------------------\n",
      "Review 3: Great hospitality and luxurious amenities. Would definitely recommend this hotel to anyone visiting Mumbai.\n",
      "--------------------------------------------------\n",
      "Review 4: The heritage and charm of this hotel is unmatched. Beautiful architecture and impeccable service.\n",
      "--------------------------------------------------\n",
      "Review 5: Wonderful stay with family. The rooms were spacious and clean, and the breakfast was delicious.\n",
      "--------------------------------------------------\n"
     ]
    }
   ],
   "source": [
    "import bs4 as bs\n",
    "import urllib.request\n",
    "import time\n",
    "import random\n",
    "\n",
    "def scrape_hotel_reviews():\n",
    "    headers = {'User-Agent': 'Mozilla/5.0 (Windows NT 10.0; Win64; x64) AppleWebKit/537.36'}\n",
    "    \n",
    "    try:\n",
    "        url = \"https://www.tripadvisor.com/Hotel_Review-g304551-d301982-Reviews-Taj_Mahal_Hotel-Mumbai.html\"\n",
    "        req = urllib.request.Request(url, headers=headers)\n",
    "        time.sleep(random.uniform(1, 3))\n",
    "        \n",
    "        with urllib.request.urlopen(req) as response:\n",
    "            html_content = response.read()\n",
    "        \n",
    "        soup = bs.BeautifulSoup(html_content, 'html.parser')\n",
    "        \n",
    "        selectors = ['.review-text', '.review-content', '[data-test=\"review-text\"]', '.user-review p']\n",
    "        reviews = []\n",
    "        \n",
    "        for selector in selectors:\n",
    "            review_elements = soup.select(selector)\n",
    "            if review_elements:\n",
    "                break\n",
    "        \n",
    "        for i, review_element in enumerate(review_elements[:5]):\n",
    "            review_text = review_element.get_text(strip=True)\n",
    "            if review_text:\n",
    "                reviews.append(f\"Review {i+1}: {review_text}\")\n",
    "        \n",
    "        if reviews:\n",
    "            print(\"\\n=== TOP 5 TAJ HOTEL REVIEWS ===\\n\")\n",
    "            for review in reviews:\n",
    "                print(review)\n",
    "                print(\"-\" * 50)\n",
    "        else:\n",
    "            print(\"No reviews found.\")\n",
    "            \n",
    "    except Exception as e:\n",
    "        print(f\"Error: {e}\")\n",
    "\n",
    "def scrape_sample_data():\n",
    "    sample_reviews = [\n",
    "        \"Excellent service and beautiful rooms! The staff was incredibly helpful and the location is perfect.\",\n",
    "        \"Amazing experience at Taj Hotel. The food was outstanding and the ambiance was perfect for our anniversary.\",\n",
    "        \"Great hospitality and luxurious amenities. Would definitely recommend this hotel to anyone visiting Mumbai.\",\n",
    "        \"The heritage and charm of this hotel is unmatched. Beautiful architecture and impeccable service.\",\n",
    "        \"Wonderful stay with family. The rooms were spacious and clean, and the breakfast was delicious.\"\n",
    "    ]\n",
    "    \n",
    "    print(\"\\n=== SAMPLE TAJ HOTEL REVIEWS ===\\n\")\n",
    "    \n",
    "    for i, review in enumerate(sample_reviews, 1):\n",
    "        print(f\"Review {i}: {review}\")\n",
    "        print(\"-\" * 50)\n",
    "\n",
    "scrape_sample_data()"
   ]
  },
  {
   "cell_type": "code",
   "execution_count": 76,
   "id": "d62335f6-4f20-47ab-b58f-da5ae5d1792a",
   "metadata": {},
   "outputs": [],
   "source": [
    "#lambda"
   ]
  },
  {
   "cell_type": "code",
   "execution_count": 82,
   "id": "eec7010d-ba69-4a74-86e3-dfaa1a11eff4",
   "metadata": {},
   "outputs": [
    {
     "name": "stdout",
     "output_type": "stream",
     "text": [
      "18\n"
     ]
    }
   ],
   "source": [
    "x= lambda y : y +10\n",
    "\n",
    "print(x(8))"
   ]
  },
  {
   "cell_type": "code",
   "execution_count": 84,
   "id": "831a7c4b-23a2-419a-b912-51cac2675135",
   "metadata": {},
   "outputs": [
    {
     "name": "stdout",
     "output_type": "stream",
     "text": [
      "18\n"
     ]
    }
   ],
   "source": [
    "def x(y) : return y +10  #same as lambda but with defining\n",
    "print(x(8))"
   ]
  },
  {
   "cell_type": "code",
   "execution_count": 86,
   "id": "49044abe-1828-4d37-a87b-2c99c612589d",
   "metadata": {},
   "outputs": [
    {
     "name": "stdout",
     "output_type": "stream",
     "text": [
      "[2, 68, 20, 40, 50, 60, 680]\n"
     ]
    }
   ],
   "source": [
    "list1 = [2,45,68,20,40,50,60,89.748,680]\n",
    "\n",
    "new_list = list(filter(lambda y : y%2==0, list1))\n",
    "\n",
    "print(new_list)\n"
   ]
  },
  {
   "cell_type": "code",
   "execution_count": 88,
   "id": "74f54f99-2151-4c93-92e6-8e3e56bfa7f4",
   "metadata": {},
   "outputs": [
    {
     "name": "stdout",
     "output_type": "stream",
     "text": [
      "[4, 47, 70, 22, 42, 52, 62, 91.748, 682]\n"
     ]
    }
   ],
   "source": [
    "list1 = [2,45,68,20,40,50,60,89.748,680]\n",
    "\n",
    "new_list = list(map(lambda y : y+2, list1))\n",
    "\n",
    "print(new_list)"
   ]
  },
  {
   "cell_type": "code",
   "execution_count": 89,
   "id": "cd6e583d-aa60-463d-9803-e27aa3c21584",
   "metadata": {},
   "outputs": [],
   "source": [
    "#regular expressions- re"
   ]
  },
  {
   "cell_type": "code",
   "execution_count": 97,
   "id": "9c5a8eec-1adf-4fb0-acbb-ec08effc8c88",
   "metadata": {},
   "outputs": [
    {
     "name": "stdout",
     "output_type": "stream",
     "text": [
      " Sonali is 29 , Vishal is 36, Manali is 28, Gajanan is 21 \n",
      "['29', '36', '28', '21']\n",
      "['Sonali', 'Vishal', 'Manali', 'Gajanan']\n",
      "{'Sonali': '29', 'Vishal': '36', 'Manali': '28', 'Gajanan': '21'}\n"
     ]
    }
   ],
   "source": [
    "import re\n",
    "\n",
    "x= \" Sonali is 29 , Vishal is 36, Manali is 28, Gajanan is 21 \"\n",
    "\n",
    "print(x)\n",
    "\n",
    "ages= re.findall( r'\\d{1,3}', x)\n",
    "names=re.findall(r'[A-Z][a-z]*', x)\n",
    "\n",
    "print(ages)\n",
    "print(names)\n",
    "\n",
    "dict= {}\n",
    "z=0\n",
    "\n",
    "for eachname in names:\n",
    "  dict[eachname]=ages[z]\n",
    "  z+=1\n",
    "\n",
    "print(dict)\n",
    "\n"
   ]
  },
  {
   "cell_type": "code",
   "execution_count": 104,
   "id": "04269fd4-9f14-4894-ad74-f773c116a882",
   "metadata": {},
   "outputs": [
    {
     "name": "stdout",
     "output_type": "stream",
     "text": [
      "Email Matches 3\n"
     ]
    }
   ],
   "source": [
    "import re\n",
    "\n",
    "email= \"kaol.com md@com @sas.com ds@.com 125@abd.ty.com4 kiran@yahoo.gov.in sonalipawar@gmail.com vishal.ahire@yahoo.com\"\n",
    "\n",
    "print( \"Email Matches\", len (re.findall (\"[\\w._%+-]{1,20}@[\\w.-]{2,20}. [A-Za-z]{2,3}\", email))) "
   ]
  },
  {
   "cell_type": "code",
   "execution_count": 107,
   "id": "99a2ed6c-9699-4c44-bffe-b2fc8bcc469b",
   "metadata": {},
   "outputs": [
    {
     "name": "stdout",
     "output_type": "stream",
     "text": [
      "email matches ['125@abd.ty', 'kiran@yahoo.gov', 'sonalipawar@gmail.com', 'ahire@yahoo.com']\n"
     ]
    }
   ],
   "source": [
    "import re\n",
    "\n",
    "email=\"kaol.com md@com @sas.com ds@.com 125@abd.ty.com4 kiran@yahoo.gov.in sonalipawar@gmail.com vishal.ahire@yahoo.com\"\n",
    "\n",
    "print(\"email matches\", (re.findall(r\"\\w+@\\w+\\.\\w+\",email)))"
   ]
  },
  {
   "cell_type": "code",
   "execution_count": 106,
   "id": "dee10bc1-5ef7-4b54-9c0b-744fdd4426cf",
   "metadata": {},
   "outputs": [
    {
     "name": "stdout",
     "output_type": "stream",
     "text": [
      "email matches 4\n",
      "matched emails: ['125@abd.ty', 'kiran@yahoo.gov', 'sonalipawar@gmail.com', 'ahire@yahoo.com']\n"
     ]
    }
   ],
   "source": [
    "import re\n",
    "email=\"kaol.com md@com @sas.com ds@.com 125@abd.ty.com4 kiran@yahoo.gov.in sonalipawar@gmail.com vishal.ahire@yahoo.com\"\n",
    "\n",
    "matches = re.findall(r\"\\w+@\\w+\\.\\w+\", email)\n",
    "print(\"email matches\", len(matches))\n",
    "print(\"matched emails:\", matches)"
   ]
  },
  {
   "cell_type": "code",
   "execution_count": 111,
   "id": "3a682417-14fd-4b0d-9c60-50b6c3f6cd72",
   "metadata": {},
   "outputs": [
    {
     "name": "stdout",
     "output_type": "stream",
     "text": [
      "valid phone number\n"
     ]
    }
   ],
   "source": [
    "import re\n",
    "\n",
    "phone= \"91-8454803078\"\n",
    "\n",
    "if (re.search(r\"\\d{2}-\\d{10}\", phone)):\n",
    "    print(\"valid phone number\")\n",
    "else:\n",
    "    print(\"invalid phone number\")\n",
    "    "
   ]
  },
  {
   "cell_type": "code",
   "execution_count": 116,
   "id": "1b8ffc5d-30e5-40d5-bfb8-a0ca1d9baa51",
   "metadata": {},
   "outputs": [
    {
     "name": "stdout",
     "output_type": "stream",
     "text": [
      "(257) 563-7401\n",
      "(372) 587-2335\n",
      "(786) 713-8616\n",
      "(793) 151-6230\n",
      "(492) 709-6392\n",
      "(654) 393-5734\n",
      "(404) 960-3807\n",
      "(314) 244-6306\n",
      "(947) 278-5929\n",
      "(684) 579-1879\n",
      "(389) 737-2852\n",
      "(660) 663-4518\n",
      "(608) 265-2215\n",
      "(959) 119-8364\n",
      "(468) 353-2641\n",
      "(248) 675-4007\n",
      "(939) 353-1107\n",
      "(570) 873-7090\n",
      "(302) 259-2375\n",
      "(717) 450-4729\n",
      "(453) 391-4650\n",
      "(559) 104-5475\n",
      "(387) 142-9434\n",
      "(516) 745-4496\n",
      "(326) 677-3419\n",
      "(746) 679-2470\n",
      "(455) 430-0989\n",
      "(490) 936-4694\n",
      "(985) 834-8285\n",
      "(662) 661-1446\n",
      "(802) 668-8240\n",
      "(477) 768-9247\n",
      "(791) 239-9057\n",
      "(832) 109-0213\n",
      "(837) 196-3274\n",
      "(268) 442-2428\n",
      "(850) 676-5117\n",
      "(861) 546-5032\n",
      "(176) 805-4108\n",
      "(715) 912-6931\n",
      "(993) 554-0563\n",
      "(357) 616-5411\n",
      "(121) 347-0086\n",
      "(304) 506-6314\n",
      "(425) 288-2332\n",
      "(145) 987-4962\n",
      "(187) 582-9707\n",
      "(750) 558-3965\n",
      "(492) 467-3131\n",
      "(774) 914-2510\n",
      "(888) 106-8550\n",
      "(539) 567-3573\n",
      "(693) 337-2849\n",
      "(545) 604-9386\n",
      "(221) 156-5026\n",
      "(414) 876-0865\n",
      "(932) 726-8645\n",
      "(726) 710-9826\n",
      "(622) 594-1662\n",
      "(948) 600-8503\n",
      "(605) 900-7508\n",
      "(716) 977-5775\n",
      "(368) 239-8275\n",
      "(725) 342-0650\n",
      "(711) 993-5187\n",
      "(882) 399-5084\n",
      "(287) 755-9948\n",
      "(659) 551-3389\n",
      "(275) 730-6868\n",
      "(725) 757-4047\n",
      "(314) 882-1496\n",
      "(639) 360-7590\n",
      "(168) 222-1592\n",
      "(896) 303-1164\n",
      "(203) 982-6130\n",
      "(906) 217-1470\n",
      "(614) 514-1269\n",
      "(763) 409-5446\n",
      "(836) 292-5324\n",
      "(926) 709-3295\n",
      "(963) 356-9268\n",
      "(736) 522-8584\n",
      "(410) 483-0352\n",
      "(252) 204-1434\n",
      "(874) 886-4174\n",
      "(581) 379-7573\n",
      "(983) 632-8597\n",
      "(295) 983-3476\n",
      "(873) 392-8802\n",
      "(360) 669-3923\n",
      "(840) 987-9449\n",
      "(422) 517-6053\n",
      "(126) 940-2753\n",
      "(427) 930-5255\n",
      "(689) 721-5145\n",
      "(676) 334-2174\n",
      "(437) 994-5270\n",
      "(564) 908-6970\n",
      "(577) 333-6244\n",
      "(655) 840-6139\n"
     ]
    }
   ],
   "source": [
    "from re import findall\n",
    "import urllib.request  # Added missing import\n",
    "\n",
    "any_url = \"http://www.summet.com/dmsi/html/codesamples/addresses.html\"\n",
    "response = urllib.request.urlopen(any_url)\n",
    "html = response.read()  \n",
    "htmlstr = html.decode()  \n",
    "pdata = findall(r\"\\(\\d{3}\\) \\d{3}-\\d{4}\", htmlstr)  # Added raw string\n",
    "for item in pdata: \n",
    "    print(item)"
   ]
  },
  {
   "cell_type": "code",
   "execution_count": null,
   "id": "e6417346-06fb-48a2-9e42-c926537359a6",
   "metadata": {},
   "outputs": [],
   "source": []
  }
 ],
 "metadata": {
  "kernelspec": {
   "display_name": "Python 3 (ipykernel)",
   "language": "python",
   "name": "python3"
  },
  "language_info": {
   "codemirror_mode": {
    "name": "ipython",
    "version": 3
   },
   "file_extension": ".py",
   "mimetype": "text/x-python",
   "name": "python",
   "nbconvert_exporter": "python",
   "pygments_lexer": "ipython3",
   "version": "3.13.5"
  }
 },
 "nbformat": 4,
 "nbformat_minor": 5
}
